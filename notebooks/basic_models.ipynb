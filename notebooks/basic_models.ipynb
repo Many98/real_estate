{
  "nbformat": 4,
  "nbformat_minor": 0,
  "metadata": {
    "colab": {
      "provenance": [],
      "collapsed_sections": [],
      "authorship_tag": "ABX9TyPlP8Uyf3ftGYECUsb8WjAZ",
      "include_colab_link": true
    },
    "kernelspec": {
      "name": "python3",
      "display_name": "Python 3"
    },
    "language_info": {
      "name": "python"
    }
  },
  "cells": [
    {
      "cell_type": "markdown",
      "metadata": {
        "id": "view-in-github",
        "colab_type": "text"
      },
      "source": [
        "<a href=\"https://colab.research.google.com/github/Many98/real_estate/blob/models/notebooks/basic_models.ipynb\" target=\"_parent\"><img src=\"https://colab.research.google.com/assets/colab-badge.svg\" alt=\"Open In Colab\"/></a>"
      ]
    },
    {
      "cell_type": "markdown",
      "source": [
        "#MODELS"
      ],
      "metadata": {
        "id": "hdAvBBnvVkpy"
      }
    },
    {
      "cell_type": "code",
      "execution_count": 67,
      "metadata": {
        "id": "qKLC4wcAVi8Z"
      },
      "outputs": [],
      "source": [
        "import pandas as pd\n",
        "import numpy as np\n",
        "df = pd.read_csv('prodej_breality_scraped.csv')\n",
        "df = df.drop(df.columns[[0,2,4,8,9,10,11,12,13,14,15,16,17,18,19,20,21,22,26,34,35,36,37,38,39,40,41,42,43,44,45,46,47,48,49,50,51,52,54,55,56,75,76]], axis=1)\n",
        "df = df.drop(df.columns[[15,16,17,18,19,22,24,25,27,32]], axis=1)\n",
        "df['has_parking'] = df['has_parking'].astype('bool')\n",
        "df['has_loggia'] = df['has_loggia'].astype('bool')\n",
        "df['has_cellar'] = df['has_cellar'].astype('bool')\n",
        "df['energy_effeciency'] = df['energy_effeciency'].replace(['A','B','C','D','E','F','G'], [1,2,3,4,5,6,7])\n",
        "df[\"has_garden\"].fillna(0, inplace = True)\n",
        "df[\"cellar_area\"].fillna(0, inplace = True)\n",
        "df[\"loggia_area\"].fillna(0, inplace = True)\n",
        "df[\"balcony_area\"].fillna(0, inplace = True)\n",
        "df = df.dropna()\n",
        "one_hot = pd.get_dummies(df['ownership'])\n",
        "df = df.join(one_hot)\n",
        "df = df.drop(['ownership'], axis=1)\n",
        "# df.info()\n"
      ]
    },
    {
      "cell_type": "markdown",
      "source": [
        "CATEGORIZE DISTANCE"
      ],
      "metadata": {
        "id": "IDRoDIZGHli0"
      }
    },
    {
      "cell_type": "code",
      "source": [
        "df['MHD_dist'] = pd.cut(df['MHD_dist'], bins=[0, 100, 200, 300, 400, 500, 600, 700, 800, 900, 1000, 1100, 1200, 1300, 1400, 1500, 1600, 1700, 1800, 1900, 2000, 10000], include_lowest=True, labels=[100, 200, 300, 400, 500, 600, 700, 800, 900, 1000, 1100, 1200, 1300, 1400, 1500, 1600, 1700, 1800, 1900, 2000, 2500])\n",
        "df['post_office_dist'] = pd.cut(df['post_office_dist'], bins=[0, 100, 200, 300, 400, 500, 600, 700, 800, 900, 1000, 1100, 1200, 1300, 1400, 1500, 1600, 1700, 1800, 1900, 2000, 10000], include_lowest=True, labels=[100, 200, 300, 400, 500, 600, 700, 800, 900, 1000, 1100, 1200, 1300, 1400, 1500, 1600, 1700, 1800, 1900, 2000, 2500])\n",
        "df['bank_dist'] = pd.cut(df['bank_dist'], bins=[0, 100, 200, 300, 400, 500, 600, 700, 800, 900, 1000, 1100, 1200, 1300, 1400, 1500, 1600, 1700, 1800, 1900, 2000, 10000], include_lowest=True, labels=[100, 200, 300, 400, 500, 600, 700, 800, 900, 1000, 1100, 1200, 1300, 1400, 1500, 1600, 1700, 1800, 1900, 2000, 2500])\n",
        "df['primary_school_dist'] = pd.cut(df['primary_school_dist'], bins=[0, 100, 200, 300, 400, 500, 600, 700, 800, 900, 1000, 1100, 1200, 1300, 1400, 1500, 1600, 1700, 1800, 1900, 2000, 10000], include_lowest=True, labels=[100, 200, 300, 400, 500, 600, 700, 800, 900, 1000, 1100, 1200, 1300, 1400, 1500, 1600, 1700, 1800, 1900, 2000, 2500])\n",
        "df['supermarket_grocery_dist'] = pd.cut(df['supermarket_grocery_dist'], bins=[0, 100, 200, 300, 400, 500, 600, 700, 800, 900, 1000, 1100, 1200, 1300, 1400, 1500, 1600, 1700, 1800, 1900, 2000, 10000], include_lowest=True, labels=[100, 200, 300, 400, 500, 600, 700, 800, 900, 1000, 1100, 1200, 1300, 1400, 1500, 1600, 1700, 1800, 1900, 2000, 2500])\n",
        "df['restaurant_pub_dist'] = pd.cut(df['restaurant_pub_dist'], bins=[0, 100, 200, 300, 400, 500, 600, 700, 800, 900, 1000, 1100, 1200, 1300, 1400, 1500, 1600, 1700, 1800, 1900, 2000, 10000], include_lowest=True, labels=[100, 200, 300, 400, 500, 600, 700, 800, 900, 1000, 1100, 1200, 1300, 1400, 1500, 1600, 1700, 1800, 1900, 2000, 2500])\n",
        "df['playground_dist'] = pd.cut(df['playground_dist'], bins=[0, 100, 200, 300, 400, 500, 600, 700, 800, 900, 1000, 1100, 1200, 1300, 1400, 1500, 1600, 1700, 1800, 1900, 2000, 10000], include_lowest=True, labels=[100, 200, 300, 400, 500, 600, 700, 800, 900, 1000, 1100, 1200, 1300, 1400, 1500, 1600, 1700, 1800, 1900, 2000, 2500])\n",
        "df['sports_field_dist'] = pd.cut(df['sports_field_dist'], bins=[0, 100, 200, 300, 400, 500, 600, 700, 800, 900, 1000, 1100, 1200, 1300, 1400, 1500, 1600, 1700, 1800, 1900, 2000, 10000], include_lowest=True, labels=[100, 200, 300, 400, 500, 600, 700, 800, 900, 1000, 1100, 1200, 1300, 1400, 1500, 1600, 1700, 1800, 1900, 2000, 2500])\n",
        "df['pharmacy_dist'] = pd.cut(df['pharmacy_dist'], bins=[0, 100, 200, 300, 400, 500, 600, 700, 800, 900, 1000, 1100, 1200, 1300, 1400, 1500, 1600, 1700, 1800, 1900, 2000, 10000], include_lowest=True, labels=[100, 200, 300, 400, 500, 600, 700, 800, 900, 1000, 1100, 1200, 1300, 1400, 1500, 1600, 1700, 1800, 1900, 2000, 2500])\n",
        "# df.max(axis=0)"
      ],
      "metadata": {
        "id": "CUnwDgC79bnJ"
      },
      "execution_count": 68,
      "outputs": []
    },
    {
      "cell_type": "code",
      "source": [
        "X = df['price'].values.reshape(-1,1)\n",
        "Y = df.drop(df.columns[[0]], axis=1)\n",
        "X_train = X[:400]\n",
        "X_test = X[401:501]\n",
        "# print(X_test) # targets, usually y\n",
        "Y_train = Y[:400]\n",
        "Y_test = Y[401:501]\n",
        "# print(Y_test.info()) # input, usually X"
      ],
      "metadata": {
        "id": "DAiShS4DFrid"
      },
      "execution_count": 69,
      "outputs": []
    },
    {
      "cell_type": "markdown",
      "source": [
        "#DECISION TREE"
      ],
      "metadata": {
        "id": "VBCDSPqIVqHS"
      }
    },
    {
      "cell_type": "code",
      "source": [
        "from sklearn import tree \n",
        "import matplotlib.pyplot as plt\n",
        "from sklearn.model_selection import cross_val_score\n",
        "from sklearn.metrics import mean_absolute_error\n",
        "clf = tree.DecisionTreeRegressor(max_depth=5, criterion = 'absolute_error', random_state = 0) # 15 = 0.6, 20 = 0.7, 5 = 0.15\n",
        "clf = clf.fit(Y_train, X_train)\n",
        "print(\"The model training score is\" , clf.score(Y_train, X_train))\n",
        "print(\"The model testing score is\" , clf.score(Y_test, X_test))\n",
        "y_pred_tree = clf.predict(Y_test)\n",
        "print(\"The model testing mean absolute error is\", mean_absolute_error(X_test, y_pred_tree))\n"
      ],
      "metadata": {
        "colab": {
          "base_uri": "https://localhost:8080/"
        },
        "id": "Byvyuz5TVrMC",
        "outputId": "3aaa9fcf-7eaf-4d73-a74e-2afef9ef4838"
      },
      "execution_count": 70,
      "outputs": [
        {
          "output_type": "stream",
          "name": "stdout",
          "text": [
            "The model training score is 0.852503422026091\n",
            "The model testing score is 0.48939798815218194\n",
            "The model testing mean absolute error is 1479310.21\n"
          ]
        }
      ]
    },
    {
      "cell_type": "markdown",
      "source": [
        "#RANDOM FOREST"
      ],
      "metadata": {
        "id": "2DZFfbSAqv0u"
      }
    },
    {
      "cell_type": "code",
      "source": [
        "from sklearn.ensemble import RandomForestRegressor\n",
        "from sklearn.datasets import make_regression\n",
        "# Y_train, X_train = make_regression(n_features=23, n_informative=2, random_state=0, shuffle=False)\n",
        "regr = RandomForestRegressor(n_estimators = 200, max_depth=5, criterion = 'absolute_error', random_state=0)\n",
        "regr = regr.fit(Y_train, X_train)\n",
        "print(\"The model training score is\" , regr.score(Y_train, X_train))\n",
        "print(\"The model testing score is\" , regr.score(Y_test, X_test))\n",
        "y_pred_tree = regr.predict(Y_test)\n",
        "print(\"The model testing mean absolute error is\", mean_absolute_error(X_test, y_pred_tree))"
      ],
      "metadata": {
        "colab": {
          "base_uri": "https://localhost:8080/"
        },
        "id": "bh20JSy-qvcm",
        "outputId": "089240c6-6c78-4c89-eb58-e0f4c6c15659"
      },
      "execution_count": 71,
      "outputs": [
        {
          "output_type": "stream",
          "name": "stderr",
          "text": [
            "/usr/local/lib/python3.7/dist-packages/ipykernel_launcher.py:5: DataConversionWarning: A column-vector y was passed when a 1d array was expected. Please change the shape of y to (n_samples,), for example using ravel().\n",
            "  \"\"\"\n"
          ]
        },
        {
          "output_type": "stream",
          "name": "stdout",
          "text": [
            "The model training score is 0.8648577343645183\n",
            "The model testing score is 0.5018869605193238\n",
            "The model testing mean absolute error is 1442091.96345\n"
          ]
        }
      ]
    },
    {
      "cell_type": "markdown",
      "source": [
        "#BASIC REGRESSION"
      ],
      "metadata": {
        "id": "izxdPELIVsi7"
      }
    },
    {
      "cell_type": "code",
      "source": [
        "from sklearn.linear_model import LinearRegression\n",
        "model = LinearRegression().fit(Y_train, X_train)\n",
        "r_sq = model.score(Y_train, X_train)\n",
        "print(f\"Coefficient of determination: {r_sq}\")\n",
        "# y_pred = model.predict(Y_test)\n",
        "r2_score = model.score(Y_test, X_test)\n",
        "print(f\"Coefficient of determination: {r2_score}\")\n",
        "y_pred_tree = model.predict(Y_test)\n",
        "print(\"The model testing mean absolute error is\", mean_absolute_error(X_test, y_pred_tree))"
      ],
      "metadata": {
        "colab": {
          "base_uri": "https://localhost:8080/"
        },
        "id": "u1WFtvo3Vtyi",
        "outputId": "28f9169c-62ef-479d-c937-0152f67af5e6"
      },
      "execution_count": 73,
      "outputs": [
        {
          "output_type": "stream",
          "name": "stdout",
          "text": [
            "Coefficient of determination: 0.7579719954005257\n",
            "Coefficient of determination: 0.5541896846364084\n",
            "The model testing mean absolute error is 1502022.6467732727\n"
          ]
        },
        {
          "output_type": "stream",
          "name": "stderr",
          "text": [
            "/usr/local/lib/python3.7/dist-packages/sklearn/utils/validation.py:976: FutureWarning: Arrays of bytes/strings is being converted to decimal numbers if dtype='numeric'. This behavior is deprecated in 0.24 and will be removed in 1.1 (renaming of 0.26). Please convert your data to numeric values explicitly instead.\n",
            "  estimator=estimator,\n",
            "/usr/local/lib/python3.7/dist-packages/sklearn/base.py:566: FutureWarning: Arrays of bytes/strings is being converted to decimal numbers if dtype='numeric'. This behavior is deprecated in 0.24 and will be removed in 1.1 (renaming of 0.26). Please convert your data to numeric values explicitly instead.\n",
            "  X = check_array(X, **check_params)\n",
            "/usr/local/lib/python3.7/dist-packages/sklearn/base.py:566: FutureWarning: Arrays of bytes/strings is being converted to decimal numbers if dtype='numeric'. This behavior is deprecated in 0.24 and will be removed in 1.1 (renaming of 0.26). Please convert your data to numeric values explicitly instead.\n",
            "  X = check_array(X, **check_params)\n",
            "/usr/local/lib/python3.7/dist-packages/sklearn/base.py:566: FutureWarning: Arrays of bytes/strings is being converted to decimal numbers if dtype='numeric'. This behavior is deprecated in 0.24 and will be removed in 1.1 (renaming of 0.26). Please convert your data to numeric values explicitly instead.\n",
            "  X = check_array(X, **check_params)\n"
          ]
        }
      ]
    },
    {
      "cell_type": "markdown",
      "source": [
        "#NEAREST K-NEIGH. REGRESSION"
      ],
      "metadata": {
        "id": "0ujvHeUrVvCT"
      }
    },
    {
      "cell_type": "code",
      "source": [
        "from sklearn.neighbors import KNeighborsRegressor\n",
        "neigh = KNeighborsRegressor(n_neighbors=2)\n",
        "neigh.fit(Y_train, X_train)\n",
        "print(\"The model training score is\" , neigh.score(Y_train, X_train))\n",
        "print(\"The model training score is\" , neigh.score(Y_test, X_test))\n",
        "y_pred_tree = neigh.predict(Y_test)\n",
        "print(\"The model testing mean absolute error is\", mean_absolute_error(X_test, y_pred_tree))"
      ],
      "metadata": {
        "colab": {
          "base_uri": "https://localhost:8080/"
        },
        "id": "RddA9NV0Vy7J",
        "outputId": "4c2114ba-278f-4ad8-99b6-1555c4539bc5"
      },
      "execution_count": 74,
      "outputs": [
        {
          "output_type": "stream",
          "name": "stdout",
          "text": [
            "The model training score is 0.6684508403479518\n",
            "The model training score is -0.18678985817397153\n",
            "The model testing mean absolute error is 3075109.81\n"
          ]
        },
        {
          "output_type": "stream",
          "name": "stderr",
          "text": [
            "/usr/local/lib/python3.7/dist-packages/sklearn/utils/validation.py:976: FutureWarning: Arrays of bytes/strings is being converted to decimal numbers if dtype='numeric'. This behavior is deprecated in 0.24 and will be removed in 1.1 (renaming of 0.26). Please convert your data to numeric values explicitly instead.\n",
            "  estimator=estimator,\n",
            "/usr/local/lib/python3.7/dist-packages/sklearn/base.py:566: FutureWarning: Arrays of bytes/strings is being converted to decimal numbers if dtype='numeric'. This behavior is deprecated in 0.24 and will be removed in 1.1 (renaming of 0.26). Please convert your data to numeric values explicitly instead.\n",
            "  X = check_array(X, **check_params)\n",
            "/usr/local/lib/python3.7/dist-packages/sklearn/base.py:566: FutureWarning: Arrays of bytes/strings is being converted to decimal numbers if dtype='numeric'. This behavior is deprecated in 0.24 and will be removed in 1.1 (renaming of 0.26). Please convert your data to numeric values explicitly instead.\n",
            "  X = check_array(X, **check_params)\n",
            "/usr/local/lib/python3.7/dist-packages/sklearn/base.py:566: FutureWarning: Arrays of bytes/strings is being converted to decimal numbers if dtype='numeric'. This behavior is deprecated in 0.24 and will be removed in 1.1 (renaming of 0.26). Please convert your data to numeric values explicitly instead.\n",
            "  X = check_array(X, **check_params)\n"
          ]
        }
      ]
    },
    {
      "cell_type": "markdown",
      "source": [
        "#NN"
      ],
      "metadata": {
        "id": "79v--vQbV0GJ"
      }
    },
    {
      "cell_type": "code",
      "source": [
        "from sklearn.neural_network import MLPRegressor\n",
        "from sklearn.datasets import make_regression\n",
        "from sklearn.model_selection import train_test_split\n",
        "regr = MLPRegressor(random_state=1, max_iter=100).fit(Y_train, X_train)\n",
        "print(\"The model training score is\" , neigh.score(Y_train, X_train))\n",
        "print(\"The model training score is\" , neigh.score(Y_test, X_test))\n",
        "y_pred_tree = regr.predict(Y_test)\n",
        "print(\"The model testing mean absolute error is\", mean_absolute_error(X_test, y_pred_tree))"
      ],
      "metadata": {
        "colab": {
          "base_uri": "https://localhost:8080/"
        },
        "id": "vYnTOkJ0V1Cx",
        "outputId": "a549dff0-953e-42a7-9aa7-7baffc7d58ae"
      },
      "execution_count": 75,
      "outputs": [
        {
          "output_type": "stream",
          "name": "stderr",
          "text": [
            "/usr/local/lib/python3.7/dist-packages/sklearn/neural_network/_multilayer_perceptron.py:1599: DataConversionWarning: A column-vector y was passed when a 1d array was expected. Please change the shape of y to (n_samples, ), for example using ravel().\n",
            "  y = column_or_1d(y, warn=True)\n"
          ]
        },
        {
          "output_type": "stream",
          "name": "stdout",
          "text": [
            "The model training score is 0.6684508403479518\n",
            "The model training score is -0.18678985817397153\n",
            "The model testing mean absolute error is 7800831.382410514\n"
          ]
        },
        {
          "output_type": "stream",
          "name": "stderr",
          "text": [
            "/usr/local/lib/python3.7/dist-packages/sklearn/neural_network/_multilayer_perceptron.py:696: ConvergenceWarning: Stochastic Optimizer: Maximum iterations (100) reached and the optimization hasn't converged yet.\n",
            "  ConvergenceWarning,\n",
            "/usr/local/lib/python3.7/dist-packages/sklearn/base.py:566: FutureWarning: Arrays of bytes/strings is being converted to decimal numbers if dtype='numeric'. This behavior is deprecated in 0.24 and will be removed in 1.1 (renaming of 0.26). Please convert your data to numeric values explicitly instead.\n",
            "  X = check_array(X, **check_params)\n",
            "/usr/local/lib/python3.7/dist-packages/sklearn/base.py:566: FutureWarning: Arrays of bytes/strings is being converted to decimal numbers if dtype='numeric'. This behavior is deprecated in 0.24 and will be removed in 1.1 (renaming of 0.26). Please convert your data to numeric values explicitly instead.\n",
            "  X = check_array(X, **check_params)\n",
            "/usr/local/lib/python3.7/dist-packages/sklearn/base.py:566: FutureWarning: Arrays of bytes/strings is being converted to decimal numbers if dtype='numeric'. This behavior is deprecated in 0.24 and will be removed in 1.1 (renaming of 0.26). Please convert your data to numeric values explicitly instead.\n",
            "  X = check_array(X, **check_params)\n"
          ]
        }
      ]
    }
  ]
}
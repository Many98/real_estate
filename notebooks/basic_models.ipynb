{
  "nbformat": 4,
  "nbformat_minor": 0,
  "metadata": {
    "colab": {
      "provenance": [],
      "collapsed_sections": [],
      "authorship_tag": "ABX9TyOExdVbxe+nZlaMVumDJXWi",
      "include_colab_link": true
    },
    "kernelspec": {
      "name": "python3",
      "display_name": "Python 3"
    },
    "language_info": {
      "name": "python"
    }
  },
  "cells": [
    {
      "cell_type": "markdown",
      "metadata": {
        "id": "view-in-github",
        "colab_type": "text"
      },
      "source": [
        "<a href=\"https://colab.research.google.com/github/Many98/real_estate/blob/models/notebooks/basic_models.ipynb\" target=\"_parent\"><img src=\"https://colab.research.google.com/assets/colab-badge.svg\" alt=\"Open In Colab\"/></a>"
      ]
    },
    {
      "cell_type": "markdown",
      "source": [
        "#MODELS"
      ],
      "metadata": {
        "id": "hdAvBBnvVkpy"
      }
    },
    {
      "cell_type": "markdown",
      "source": [
        "# BEZREALITKY DATA"
      ],
      "metadata": {
        "id": "bWlDVW-p0QSN"
      }
    },
    {
      "cell_type": "code",
      "execution_count": 127,
      "metadata": {
        "id": "qKLC4wcAVi8Z"
      },
      "outputs": [],
      "source": [
        "import pandas as pd\n",
        "import numpy as np\n",
        "df = pd.read_csv('prodej_breality_scraped.csv')\n",
        "df = df.drop(df.columns[[0,2,4,8,9,10,11,12,13,14,15,16,17,18,19,20,21,22,26,34,35,36,37,38,39,40,41,42,43,44,45,46,47,48,49,50,51,52,54,55,56,75,76]], axis=1)\n",
        "df = df.drop(df.columns[[15,16,17,18,19,22,24,25,27,32]], axis=1)\n",
        "df['has_parking'] = df['has_parking'].astype('bool')\n",
        "df['has_loggia'] = df['has_loggia'].astype('bool')\n",
        "df['has_cellar'] = df['has_cellar'].astype('bool')\n",
        "df['energy_effeciency'] = df['energy_effeciency'].replace(['A','B','C','D','E','F','G'], [1,2,3,4,5,6,7])\n",
        "df[\"has_garden\"].fillna(0, inplace = True)\n",
        "df[\"cellar_area\"].fillna(0, inplace = True)\n",
        "df[\"loggia_area\"].fillna(0, inplace = True)\n",
        "df[\"balcony_area\"].fillna(0, inplace = True)\n",
        "df = df.dropna()\n",
        "one_hot = pd.get_dummies(df['ownership'])\n",
        "df = df.join(one_hot)\n",
        "df = df.drop(['ownership'], axis=1)\n",
        "# df.info()\n"
      ]
    },
    {
      "cell_type": "markdown",
      "source": [
        "CATEGORIZE DISTANCE"
      ],
      "metadata": {
        "id": "IDRoDIZGHli0"
      }
    },
    {
      "cell_type": "code",
      "source": [
        "# label 2100_MHD means <2000, because of feature_names may not contain [, ] or <\n",
        "df['MHD_dist'] = pd.cut(df['MHD_dist'], bins=[0, 100, 200, 300, 400, 500, 600, 700, 800, 900, 1000, 1100, 1200, 1300, 1400, 1500, 1600, 1700, 1800, 1900, 2000, 10000], include_lowest=True, labels=['100_MHD', '200_MHD', '300_MHD','400_MHD','500_MHD','600_MHD','700_MHD','800_MHD','900_MHD','1000_MHD','1100_MHD','1200_MHD','1300_MHD','1400_MHD','1500_MHD','1600_MHD','1700_MHD','1800_MHD','1900_MHD','2000_MHD','2100_MHD'])\n",
        "df['post_office_dist'] = pd.cut(df['post_office_dist'], bins=[0, 100, 200, 300, 400, 500, 600, 700, 800, 900, 1000, 1100, 1200, 1300, 1400, 1500, 1600, 1700, 1800, 1900, 2000, 10000], include_lowest=True, labels=['100_POST', '200_POST', '300_POST','400_POST','500_POST','600_POST','700_POST','800_POST','900_POST','1000_POST','1100_POST','1200_POST','1300_POST','1400_POST','1500_POST','1600_POST','1700_POST','1800_POST','1900_POST','2000_POST','2100_POST'])\n",
        "df['bank_dist'] = pd.cut(df['bank_dist'], bins=[0, 100, 200, 300, 400, 500, 600, 700, 800, 900, 1000, 1100, 1200, 1300, 1400, 1500, 1600, 1700, 1800, 1900, 2000, 10000], include_lowest=True, labels=['100_BANK', '200_BANK', '300_BANK','400_BANK','500_BANK','600_BANK','700_BANK','800_BANK','900_BANK','1000_BANK','1100_BANK','1200_BANK','1300_BANK','1400_BANK','1500_BANK','1600_BANK','1700_BANK','1800_BANK','1900_BANK','2000_BANK','<2000_BANK'])\n",
        "df['primary_school_dist'] = pd.cut(df['primary_school_dist'], bins=[0, 100, 200, 300, 400, 500, 600, 700, 800, 900, 1000, 1100, 1200, 1300, 1400, 1500, 1600, 1700, 1800, 1900, 2000, 10000], include_lowest=True, labels=['100_SCHOOL', '200_SCHOOL', '300_SCHOOL','400_SCHOOL','500_SCHOOL','600_SCHOOL','700_SCHOOL','800_SCHOOL','900_SCHOOL','1000_SCHOOL','1100_SCHOOL','1200_SCHOOL','1300_SCHOOL','1400_SCHOOL','1500_SCHOOL','1600_SCHOOL','1700_SCHOOL','1800_SCHOOL','1900_SCHOOL','2000_SCHOOL','2100_SCHOOL'])\n",
        "df['supermarket_grocery_dist'] = pd.cut(df['supermarket_grocery_dist'], bins=[0, 100, 200, 300, 400, 500, 600, 700, 800, 900, 1000, 1100, 1200, 1300, 1400, 1500, 1600, 1700, 1800, 1900, 2000, 10000], include_lowest=True, labels=['100_MARKET', '200_MARKET', '300_MARKET','400_MARKET','500_MARKET','600_MARKET','700_MARKET','800_MARKET','900_MARKET','1000_MARKET','1100_MARKET','1200_MARKET','1300_MARKET','1400_MARKET','1500_MARKET','1600_MARKET','1700_MARKET','1800_MARKET','1900_MARKET','2000_MARKET','2100_MARKET'])\n",
        "df['restaurant_pub_dist'] = pd.cut(df['restaurant_pub_dist'], bins=[0, 100, 200, 300, 400, 500, 600, 700, 800, 900, 1000, 1100, 1200, 1300, 1400, 1500, 1600, 1700, 1800, 1900, 2000, 10000], include_lowest=True, labels=['100_PUB', '200_PUB', '300_PUB','400_PUB','500_PUB','600_PUB','700_PUB','800_PUB','900_PUB','1000_PUB','1100_PUB','1200_PUB','1300_PUB','1400_PUB','1500_PUB','1600_PUB','1700_PUB','1800_PUB','1900_PUB','2000_PUB','2100_PUB'])\n",
        "df['playground_dist'] = pd.cut(df['playground_dist'], bins=[0, 100, 200, 300, 400, 500, 600, 700, 800, 900, 1000, 1100, 1200, 1300, 1400, 1500, 1600, 1700, 1800, 1900, 2000, 10000], include_lowest=True, labels=['100_PLAY', '200_PLAY', '300_PLAY','400_PLAY','500_PLAY','600_PLAY','700_PLAY','800_PLAY','900_PLAY','1000_PLAY','1100_PLAY','1200_PLAY','1300_PLAY','1400_PLAY','1500_PLAY','1600_PLAY','1700_PLAY','1800_PLAY','1900_PLAY','2000_PLAY','2100_PLAY'])\n",
        "df['sports_field_dist'] = pd.cut(df['sports_field_dist'], bins=[0, 100, 200, 300, 400, 500, 600, 700, 800, 900, 1000, 1100, 1200, 1300, 1400, 1500, 1600, 1700, 1800, 1900, 2000, 10000], include_lowest=True, labels=['100_SPORT', '200_SPORT', '300_SPORT','400_SPORT','500_SPORT','600_SPORT','700_SPORT','800_SPORT','900_SPORT','1000_SPORT','1100_SPORT','1200_SPORT','1300_SPORT','1400_SPORT','1500_SPORT','1600_SPORT','1700_SPORT','1800_SPORT','1900_SPORT','2000_SPORT','2100_SPORT'])\n",
        "df['pharmacy_dist'] = pd.cut(df['pharmacy_dist'], bins=[0, 100, 200, 300, 400, 500, 600, 700, 800, 900, 1000, 1100, 1200, 1300, 1400, 1500, 1600, 1700, 1800, 1900, 2000, 10000], include_lowest=True, labels=['100_PHARMACY', '200_PHARMACY', '300_PHARMACY', '400_PHARMACY', '500_PHARMACY', '600_PHARMACY', '700_PHARMACY', '800_PHARMACY', '900_SPHARMACY', '1000_PHARMACY', '1100_PHARMACY', '1200_PHARMACY', '1300_PHARMACY', '1400_PHARMACY', '1500_PHARMACY', '1600_PHARMACY', '1700_PHARMACY', '1800_PHARMACY', '1900_PHARMACY', '2000_PHARMACY', '2100_PHARMACY'])\n",
        "# df.max(axis=0)"
      ],
      "metadata": {
        "id": "CUnwDgC79bnJ"
      },
      "execution_count": 128,
      "outputs": []
    },
    {
      "cell_type": "code",
      "source": [
        "dist = ['100_', '200_', '300_','400_','500_','600_','700_','800_','900_S','1000_','1100_','1200_','1300_','1400_','1500_','1600_','1700_','1800_','1900_','2000_','2100_']\n",
        "label_dist = []\n",
        "for i in dist:\n",
        "  label_dist.append(i + 'PHARMACY')\n",
        "print(label_dist)"
      ],
      "metadata": {
        "colab": {
          "base_uri": "https://localhost:8080/"
        },
        "id": "yh70VVjDv5VQ",
        "outputId": "a7262d02-dbb3-4940-a0b6-980ebb3d4f02"
      },
      "execution_count": 129,
      "outputs": [
        {
          "output_type": "stream",
          "name": "stdout",
          "text": [
            "['100_PHARMACY', '200_PHARMACY', '300_PHARMACY', '400_PHARMACY', '500_PHARMACY', '600_PHARMACY', '700_PHARMACY', '800_PHARMACY', '900_SPHARMACY', '1000_PHARMACY', '1100_PHARMACY', '1200_PHARMACY', '1300_PHARMACY', '1400_PHARMACY', '1500_PHARMACY', '1600_PHARMACY', '1700_PHARMACY', '1800_PHARMACY', '1900_PHARMACY', '2000_PHARMACY', '2100_PHARMACY']\n"
          ]
        }
      ]
    },
    {
      "cell_type": "code",
      "source": [
        "one_hot = pd.get_dummies(df['MHD_dist']).astype('bool')\n",
        "df = df.join(one_hot)\n",
        "df = df.drop(['MHD_dist'], axis=1)\n",
        "one_hot = pd.get_dummies(df['post_office_dist']).astype('bool')\n",
        "df = df.join(one_hot)\n",
        "df = df.drop(['post_office_dist'], axis=1)\n",
        "one_hot = pd.get_dummies(df['bank_dist']).astype('bool')\n",
        "df = df.join(one_hot)\n",
        "df = df.drop(['bank_dist'], axis=1)\n",
        "one_hot = pd.get_dummies(df['primary_school_dist']).astype('bool')\n",
        "df = df.join(one_hot)\n",
        "df = df.drop(['primary_school_dist'], axis=1)\n",
        "one_hot = pd.get_dummies(df['supermarket_grocery_dist']).astype('bool')\n",
        "df = df.join(one_hot)\n",
        "df = df.drop(['supermarket_grocery_dist'], axis=1)\n",
        "one_hot = pd.get_dummies(df['restaurant_pub_dist']).astype('bool')\n",
        "df = df.join(one_hot)\n",
        "df = df.drop(['restaurant_pub_dist'], axis=1)\n",
        "one_hot = pd.get_dummies(df['playground_dist']).astype('bool')\n",
        "df = df.join(one_hot)\n",
        "df = df.drop(['playground_dist'], axis=1)\n",
        "one_hot = pd.get_dummies(df['sports_field_dist']).astype('bool')\n",
        "df = df.join(one_hot)\n",
        "df = df.drop(['sports_field_dist'], axis=1)\n",
        "one_hot = pd.get_dummies(df['pharmacy_dist']).astype('bool')\n",
        "df = df.join(one_hot)\n",
        "df = df.drop(['pharmacy_dist'], axis=1)\n",
        "\n",
        "df['DRUZSTEVNI'] = df['DRUZSTEVNI'].astype('bool')\n",
        "df['OSOBNI'] = df['OSOBNI'].astype('bool')\n",
        "df['UNDEFINED'] = df['UNDEFINED'].astype('bool')"
      ],
      "metadata": {
        "id": "xy-nN_c5J2U7"
      },
      "execution_count": 130,
      "outputs": []
    },
    {
      "cell_type": "code",
      "source": [
        "df.head()\n",
        "\n"
      ],
      "metadata": {
        "colab": {
          "base_uri": "https://localhost:8080/",
          "height": 300
        },
        "id": "iwaLCH60tRxx",
        "outputId": "9cdf606b-5c26-4610-99c5-b97ab98db38e"
      },
      "execution_count": 131,
      "outputs": [
        {
          "output_type": "execute_result",
          "data": {
            "text/plain": [
              "      price  usable_area  floor  energy_effeciency  has_lift  has_garage  \\\n",
              "0  19590000          161    3.0                7.0      True       False   \n",
              "1   6199999           48    6.0                3.0      True       False   \n",
              "2   6750000           61    2.0                2.0      True       False   \n",
              "3  17750000          123    6.0                2.0      True        True   \n",
              "4   7000000           47    3.0                7.0     False       False   \n",
              "\n",
              "   has_cellar  has_loggia  has_balcony  has_garden  ...  1200_PHARMACY  \\\n",
              "0       False       False         True         0.0  ...          False   \n",
              "1        True       False         True         0.0  ...          False   \n",
              "2       False        True        False         0.0  ...          False   \n",
              "3        True       False         True         0.0  ...          False   \n",
              "4        True       False         True         0.0  ...          False   \n",
              "\n",
              "   1300_PHARMACY  1400_PHARMACY  1500_PHARMACY  1600_PHARMACY  1700_PHARMACY  \\\n",
              "0          False          False          False          False          False   \n",
              "1          False          False          False          False          False   \n",
              "2          False          False          False          False          False   \n",
              "3          False          False          False          False          False   \n",
              "4          False          False          False          False          False   \n",
              "\n",
              "   1800_PHARMACY  1900_PHARMACY  2000_PHARMACY  2100_PHARMACY  \n",
              "0          False          False          False          False  \n",
              "1          False          False          False          False  \n",
              "2          False          False          False          False  \n",
              "3          False          False          False          False  \n",
              "4          False          False          False          False  \n",
              "\n",
              "[5 rows x 206 columns]"
            ],
            "text/html": [
              "\n",
              "  <div id=\"df-67aaddf5-8030-4778-8ab1-83e53f7234cd\">\n",
              "    <div class=\"colab-df-container\">\n",
              "      <div>\n",
              "<style scoped>\n",
              "    .dataframe tbody tr th:only-of-type {\n",
              "        vertical-align: middle;\n",
              "    }\n",
              "\n",
              "    .dataframe tbody tr th {\n",
              "        vertical-align: top;\n",
              "    }\n",
              "\n",
              "    .dataframe thead th {\n",
              "        text-align: right;\n",
              "    }\n",
              "</style>\n",
              "<table border=\"1\" class=\"dataframe\">\n",
              "  <thead>\n",
              "    <tr style=\"text-align: right;\">\n",
              "      <th></th>\n",
              "      <th>price</th>\n",
              "      <th>usable_area</th>\n",
              "      <th>floor</th>\n",
              "      <th>energy_effeciency</th>\n",
              "      <th>has_lift</th>\n",
              "      <th>has_garage</th>\n",
              "      <th>has_cellar</th>\n",
              "      <th>has_loggia</th>\n",
              "      <th>has_balcony</th>\n",
              "      <th>has_garden</th>\n",
              "      <th>...</th>\n",
              "      <th>1200_PHARMACY</th>\n",
              "      <th>1300_PHARMACY</th>\n",
              "      <th>1400_PHARMACY</th>\n",
              "      <th>1500_PHARMACY</th>\n",
              "      <th>1600_PHARMACY</th>\n",
              "      <th>1700_PHARMACY</th>\n",
              "      <th>1800_PHARMACY</th>\n",
              "      <th>1900_PHARMACY</th>\n",
              "      <th>2000_PHARMACY</th>\n",
              "      <th>2100_PHARMACY</th>\n",
              "    </tr>\n",
              "  </thead>\n",
              "  <tbody>\n",
              "    <tr>\n",
              "      <th>0</th>\n",
              "      <td>19590000</td>\n",
              "      <td>161</td>\n",
              "      <td>3.0</td>\n",
              "      <td>7.0</td>\n",
              "      <td>True</td>\n",
              "      <td>False</td>\n",
              "      <td>False</td>\n",
              "      <td>False</td>\n",
              "      <td>True</td>\n",
              "      <td>0.0</td>\n",
              "      <td>...</td>\n",
              "      <td>False</td>\n",
              "      <td>False</td>\n",
              "      <td>False</td>\n",
              "      <td>False</td>\n",
              "      <td>False</td>\n",
              "      <td>False</td>\n",
              "      <td>False</td>\n",
              "      <td>False</td>\n",
              "      <td>False</td>\n",
              "      <td>False</td>\n",
              "    </tr>\n",
              "    <tr>\n",
              "      <th>1</th>\n",
              "      <td>6199999</td>\n",
              "      <td>48</td>\n",
              "      <td>6.0</td>\n",
              "      <td>3.0</td>\n",
              "      <td>True</td>\n",
              "      <td>False</td>\n",
              "      <td>True</td>\n",
              "      <td>False</td>\n",
              "      <td>True</td>\n",
              "      <td>0.0</td>\n",
              "      <td>...</td>\n",
              "      <td>False</td>\n",
              "      <td>False</td>\n",
              "      <td>False</td>\n",
              "      <td>False</td>\n",
              "      <td>False</td>\n",
              "      <td>False</td>\n",
              "      <td>False</td>\n",
              "      <td>False</td>\n",
              "      <td>False</td>\n",
              "      <td>False</td>\n",
              "    </tr>\n",
              "    <tr>\n",
              "      <th>2</th>\n",
              "      <td>6750000</td>\n",
              "      <td>61</td>\n",
              "      <td>2.0</td>\n",
              "      <td>2.0</td>\n",
              "      <td>True</td>\n",
              "      <td>False</td>\n",
              "      <td>False</td>\n",
              "      <td>True</td>\n",
              "      <td>False</td>\n",
              "      <td>0.0</td>\n",
              "      <td>...</td>\n",
              "      <td>False</td>\n",
              "      <td>False</td>\n",
              "      <td>False</td>\n",
              "      <td>False</td>\n",
              "      <td>False</td>\n",
              "      <td>False</td>\n",
              "      <td>False</td>\n",
              "      <td>False</td>\n",
              "      <td>False</td>\n",
              "      <td>False</td>\n",
              "    </tr>\n",
              "    <tr>\n",
              "      <th>3</th>\n",
              "      <td>17750000</td>\n",
              "      <td>123</td>\n",
              "      <td>6.0</td>\n",
              "      <td>2.0</td>\n",
              "      <td>True</td>\n",
              "      <td>True</td>\n",
              "      <td>True</td>\n",
              "      <td>False</td>\n",
              "      <td>True</td>\n",
              "      <td>0.0</td>\n",
              "      <td>...</td>\n",
              "      <td>False</td>\n",
              "      <td>False</td>\n",
              "      <td>False</td>\n",
              "      <td>False</td>\n",
              "      <td>False</td>\n",
              "      <td>False</td>\n",
              "      <td>False</td>\n",
              "      <td>False</td>\n",
              "      <td>False</td>\n",
              "      <td>False</td>\n",
              "    </tr>\n",
              "    <tr>\n",
              "      <th>4</th>\n",
              "      <td>7000000</td>\n",
              "      <td>47</td>\n",
              "      <td>3.0</td>\n",
              "      <td>7.0</td>\n",
              "      <td>False</td>\n",
              "      <td>False</td>\n",
              "      <td>True</td>\n",
              "      <td>False</td>\n",
              "      <td>True</td>\n",
              "      <td>0.0</td>\n",
              "      <td>...</td>\n",
              "      <td>False</td>\n",
              "      <td>False</td>\n",
              "      <td>False</td>\n",
              "      <td>False</td>\n",
              "      <td>False</td>\n",
              "      <td>False</td>\n",
              "      <td>False</td>\n",
              "      <td>False</td>\n",
              "      <td>False</td>\n",
              "      <td>False</td>\n",
              "    </tr>\n",
              "  </tbody>\n",
              "</table>\n",
              "<p>5 rows × 206 columns</p>\n",
              "</div>\n",
              "      <button class=\"colab-df-convert\" onclick=\"convertToInteractive('df-67aaddf5-8030-4778-8ab1-83e53f7234cd')\"\n",
              "              title=\"Convert this dataframe to an interactive table.\"\n",
              "              style=\"display:none;\">\n",
              "        \n",
              "  <svg xmlns=\"http://www.w3.org/2000/svg\" height=\"24px\"viewBox=\"0 0 24 24\"\n",
              "       width=\"24px\">\n",
              "    <path d=\"M0 0h24v24H0V0z\" fill=\"none\"/>\n",
              "    <path d=\"M18.56 5.44l.94 2.06.94-2.06 2.06-.94-2.06-.94-.94-2.06-.94 2.06-2.06.94zm-11 1L8.5 8.5l.94-2.06 2.06-.94-2.06-.94L8.5 2.5l-.94 2.06-2.06.94zm10 10l.94 2.06.94-2.06 2.06-.94-2.06-.94-.94-2.06-.94 2.06-2.06.94z\"/><path d=\"M17.41 7.96l-1.37-1.37c-.4-.4-.92-.59-1.43-.59-.52 0-1.04.2-1.43.59L10.3 9.45l-7.72 7.72c-.78.78-.78 2.05 0 2.83L4 21.41c.39.39.9.59 1.41.59.51 0 1.02-.2 1.41-.59l7.78-7.78 2.81-2.81c.8-.78.8-2.07 0-2.86zM5.41 20L4 18.59l7.72-7.72 1.47 1.35L5.41 20z\"/>\n",
              "  </svg>\n",
              "      </button>\n",
              "      \n",
              "  <style>\n",
              "    .colab-df-container {\n",
              "      display:flex;\n",
              "      flex-wrap:wrap;\n",
              "      gap: 12px;\n",
              "    }\n",
              "\n",
              "    .colab-df-convert {\n",
              "      background-color: #E8F0FE;\n",
              "      border: none;\n",
              "      border-radius: 50%;\n",
              "      cursor: pointer;\n",
              "      display: none;\n",
              "      fill: #1967D2;\n",
              "      height: 32px;\n",
              "      padding: 0 0 0 0;\n",
              "      width: 32px;\n",
              "    }\n",
              "\n",
              "    .colab-df-convert:hover {\n",
              "      background-color: #E2EBFA;\n",
              "      box-shadow: 0px 1px 2px rgba(60, 64, 67, 0.3), 0px 1px 3px 1px rgba(60, 64, 67, 0.15);\n",
              "      fill: #174EA6;\n",
              "    }\n",
              "\n",
              "    [theme=dark] .colab-df-convert {\n",
              "      background-color: #3B4455;\n",
              "      fill: #D2E3FC;\n",
              "    }\n",
              "\n",
              "    [theme=dark] .colab-df-convert:hover {\n",
              "      background-color: #434B5C;\n",
              "      box-shadow: 0px 1px 3px 1px rgba(0, 0, 0, 0.15);\n",
              "      filter: drop-shadow(0px 1px 2px rgba(0, 0, 0, 0.3));\n",
              "      fill: #FFFFFF;\n",
              "    }\n",
              "  </style>\n",
              "\n",
              "      <script>\n",
              "        const buttonEl =\n",
              "          document.querySelector('#df-67aaddf5-8030-4778-8ab1-83e53f7234cd button.colab-df-convert');\n",
              "        buttonEl.style.display =\n",
              "          google.colab.kernel.accessAllowed ? 'block' : 'none';\n",
              "\n",
              "        async function convertToInteractive(key) {\n",
              "          const element = document.querySelector('#df-67aaddf5-8030-4778-8ab1-83e53f7234cd');\n",
              "          const dataTable =\n",
              "            await google.colab.kernel.invokeFunction('convertToInteractive',\n",
              "                                                     [key], {});\n",
              "          if (!dataTable) return;\n",
              "\n",
              "          const docLinkHtml = 'Like what you see? Visit the ' +\n",
              "            '<a target=\"_blank\" href=https://colab.research.google.com/notebooks/data_table.ipynb>data table notebook</a>'\n",
              "            + ' to learn more about interactive tables.';\n",
              "          element.innerHTML = '';\n",
              "          dataTable['output_type'] = 'display_data';\n",
              "          await google.colab.output.renderOutput(dataTable, element);\n",
              "          const docLink = document.createElement('div');\n",
              "          docLink.innerHTML = docLinkHtml;\n",
              "          element.appendChild(docLink);\n",
              "        }\n",
              "      </script>\n",
              "    </div>\n",
              "  </div>\n",
              "  "
            ]
          },
          "metadata": {},
          "execution_count": 131
        }
      ]
    },
    {
      "cell_type": "code",
      "source": [
        "import re\n",
        "regex = re.compile(r\"\\[|\\]|<\", re.IGNORECASE)\n",
        "df.columns = [regex.sub(\"_\", col) if any(x in str(col) for x in set(('[', ']', '<'))) else col for col in df.columns.values]"
      ],
      "metadata": {
        "id": "xFkZmIKLy2r-"
      },
      "execution_count": 132,
      "outputs": []
    },
    {
      "cell_type": "markdown",
      "source": [
        "#SREALITY DATA"
      ],
      "metadata": {
        "id": "SCEDfyw90UXe"
      }
    },
    {
      "cell_type": "code",
      "source": [
        "dfs = pd.read_csv('prodej_sreality_scraped.csv')\n",
        "dfs.info()"
      ],
      "metadata": {
        "colab": {
          "base_uri": "https://localhost:8080/"
        },
        "id": "-vjHw6z42b6M",
        "outputId": "f69e7cbc-ee33-47c6-fbb3-bed56dc518d5"
      },
      "execution_count": 133,
      "outputs": [
        {
          "output_type": "stream",
          "name": "stdout",
          "text": [
            "<class 'pandas.core.frame.DataFrame'>\n",
            "RangeIndex: 4332 entries, 0 to 4331\n",
            "Data columns (total 51 columns):\n",
            " #   Column                    Non-Null Count  Dtype  \n",
            "---  ------                    --------------  -----  \n",
            " 0   header                    4314 non-null   object \n",
            " 1   price                     4137 non-null   object \n",
            " 2   note                      2019 non-null   object \n",
            " 3   usable_area               4273 non-null   object \n",
            " 4   floor_area                0 non-null      float64\n",
            " 5   floor                     4273 non-null   object \n",
            " 6   energy_effeciency         3694 non-null   object \n",
            " 7   ownership                 4273 non-null   object \n",
            " 8   description               4316 non-null   object \n",
            " 9   long                      4332 non-null   object \n",
            " 10  lat                       4332 non-null   object \n",
            " 11  hash                      0 non-null      float64\n",
            " 12  bus_station_dist          4287 non-null   object \n",
            " 13  train_station_dist        4285 non-null   object \n",
            " 14  subway_station_dist       4193 non-null   object \n",
            " 15  tram_station_dist         4238 non-null   object \n",
            " 16  MHD_dist                  0 non-null      float64\n",
            " 17  post_office_dist          4288 non-null   object \n",
            " 18  atm_dist                  4288 non-null   object \n",
            " 19  doctor_dist               4271 non-null   object \n",
            " 20  vet_dist                  4287 non-null   object \n",
            " 21  primary_school_dist       4288 non-null   object \n",
            " 22  kindergarten_dist         4288 non-null   object \n",
            " 23  supermarket_grocery_dist  4288 non-null   object \n",
            " 24  restaurant_pub_dist       4288 non-null   object \n",
            " 25  playground_dist           4289 non-null   object \n",
            " 26  sports_field_dist         4289 non-null   object \n",
            " 27  theatre_cinema_dist       4288 non-null   object \n",
            " 28  pharmacy_dist             4288 non-null   object \n",
            " 29  gas                       1051 non-null   object \n",
            " 30  waste                     2119 non-null   object \n",
            " 31  equipment                 1908 non-null   object \n",
            " 32  state                     4273 non-null   object \n",
            " 33  construction_type         4273 non-null   object \n",
            " 34  place                     2101 non-null   object \n",
            " 35  electricity               1825 non-null   object \n",
            " 36  heating                   2188 non-null   object \n",
            " 37  transport                 2138 non-null   object \n",
            " 38  year_reconstruction       326 non-null    float64\n",
            " 39  telecomunication          1457 non-null   object \n",
            " 40  tags                      0 non-null      float64\n",
            " 41  disposition               0 non-null      float64\n",
            " 42  has_lift                  2812 non-null   object \n",
            " 43  has_garage                736 non-null    object \n",
            " 44  has_cellar                2602 non-null   object \n",
            " 45  no_barriers               0 non-null      float64\n",
            " 46  has_loggia                843 non-null    object \n",
            " 47  has_balcony               1210 non-null   object \n",
            " 48  has_garden                0 non-null      float64\n",
            " 49  has_parking               1243 non-null   object \n",
            " 50  sports_field              4289 non-null   object \n",
            "dtypes: float64(8), object(43)\n",
            "memory usage: 1.7+ MB\n"
          ]
        }
      ]
    },
    {
      "cell_type": "code",
      "source": [
        "from sklearn.model_selection import train_test_split\n",
        "# print(X_test) # targets, usually y\n",
        "X = df['price'].values.reshape(-1,1)\n",
        "# print(Y_test.info()) # input, usually X\n",
        "Y = df.drop(df.columns[[0]], axis=1)\n",
        "Y_train, Y_test, X_train, X_test = train_test_split(Y, X, test_size=0.33, random_state=42, shuffle=True)"
      ],
      "metadata": {
        "id": "DAiShS4DFrid"
      },
      "execution_count": 134,
      "outputs": []
    },
    {
      "cell_type": "markdown",
      "source": [
        "#DECISION TREE"
      ],
      "metadata": {
        "id": "VBCDSPqIVqHS"
      }
    },
    {
      "cell_type": "code",
      "source": [
        "from sklearn import tree \n",
        "import matplotlib.pyplot as plt\n",
        "from sklearn.model_selection import cross_val_score\n",
        "from sklearn.metrics import mean_absolute_error\n",
        "clf = tree.DecisionTreeRegressor(max_depth=5, criterion = 'absolute_error', random_state = 0) # 15 = 0.6, 20 = 0.7, 5 = 0.15\n",
        "clf = clf.fit(Y_train, X_train)\n",
        "# mean accuracy\n",
        "print(\"The model training score is\" , clf.score(Y_train, X_train))\n",
        "print(\"The model testing score is\" , clf.score(Y_test, X_test))\n",
        "y_pred_tree = clf.predict(Y_test)\n",
        "print(\"The model testing mean absolute error is\", mean_absolute_error(X_test, y_pred_tree))\n",
        "\n",
        "# comment: with one hot encoding dist, R^2 of test data went from 0.48 to 0.29!\n"
      ],
      "metadata": {
        "colab": {
          "base_uri": "https://localhost:8080/"
        },
        "id": "Byvyuz5TVrMC",
        "outputId": "f592d60f-b128-47ab-8c0a-1407c44325a2"
      },
      "execution_count": 135,
      "outputs": [
        {
          "output_type": "stream",
          "name": "stdout",
          "text": [
            "The model training score is 0.7999522272619716\n",
            "The model testing score is 0.295304207895033\n",
            "The model testing mean absolute error is 1927746.626506024\n"
          ]
        }
      ]
    },
    {
      "cell_type": "markdown",
      "source": [
        "#RANDOM FOREST TODO\n",
        "\n"
      ],
      "metadata": {
        "id": "2DZFfbSAqv0u"
      }
    },
    {
      "cell_type": "code",
      "source": [
        "from sklearn.ensemble import RandomForestRegressor\n",
        "from sklearn.datasets import make_regression\n",
        "# Y_train, X_train = make_regression(n_features=23, n_informative=2, random_state=0, shuffle=False)\n",
        "regr = RandomForestRegressor(n_estimators = 200, max_depth=5, criterion = 'absolute_error', random_state=0)\n",
        "regr = regr.fit(Y_train, X_train)\n",
        "# coefficient of determination\n",
        "print(\"The model training score is\" , regr.score(Y_train, X_train))\n",
        "print(\"The model testing score is\" , regr.score(Y_test, X_test))\n",
        "y_pred_tree = regr.predict(Y_test)\n",
        "print(\"The model testing mean absolute error is\", mean_absolute_error(X_test, y_pred_tree))\n",
        "\n",
        "# comment: with one hot encoding dist, R^2 of test data went from 0.5 to 0.62!"
      ],
      "metadata": {
        "colab": {
          "base_uri": "https://localhost:8080/"
        },
        "id": "bh20JSy-qvcm",
        "outputId": "dfdb163f-259c-4f31-8039-a0ab0611770e"
      },
      "execution_count": 136,
      "outputs": [
        {
          "output_type": "stream",
          "name": "stderr",
          "text": [
            "/usr/local/lib/python3.7/dist-packages/ipykernel_launcher.py:5: DataConversionWarning: A column-vector y was passed when a 1d array was expected. Please change the shape of y to (n_samples,), for example using ravel().\n",
            "  \"\"\"\n"
          ]
        },
        {
          "output_type": "stream",
          "name": "stdout",
          "text": [
            "The model training score is 0.8667885845257394\n",
            "The model testing score is 0.6217379944679653\n",
            "The model testing mean absolute error is 1535504.4674849396\n"
          ]
        }
      ]
    },
    {
      "cell_type": "markdown",
      "source": [
        "#BASIC REGRESSION"
      ],
      "metadata": {
        "id": "izxdPELIVsi7"
      }
    },
    {
      "cell_type": "code",
      "source": [
        "from sklearn.linear_model import LinearRegression\n",
        "model = LinearRegression().fit(Y_train, X_train)\n",
        "r_sq = model.score(Y_train, X_train)\n",
        "print(f\"Coefficient of determination: {r_sq}\")\n",
        "# y_pred = model.predict(Y_test)\n",
        "r2_score = model.score(Y_test, X_test)\n",
        "print(f\"Coefficient of determination: {r2_score}\")\n",
        "y_pred_tree = model.predict(Y_test)\n",
        "print(\"The model testing mean absolute error is\", mean_absolute_error(X_test, y_pred_tree))\n",
        "\n",
        "# comment: with one hot encoding dist, R^2 of test data went from 0.55 to 0.19!"
      ],
      "metadata": {
        "colab": {
          "base_uri": "https://localhost:8080/"
        },
        "id": "u1WFtvo3Vtyi",
        "outputId": "b472680c-de06-43c2-fc83-6f8f79541de8"
      },
      "execution_count": 137,
      "outputs": [
        {
          "output_type": "stream",
          "name": "stdout",
          "text": [
            "Coefficient of determination: 0.8347633414254954\n",
            "Coefficient of determination: 0.19480137122108643\n",
            "The model testing mean absolute error is 2298112.0698411185\n"
          ]
        }
      ]
    },
    {
      "cell_type": "markdown",
      "source": [
        "#NEAREST K-NEIGH. REGRESSION"
      ],
      "metadata": {
        "id": "0ujvHeUrVvCT"
      }
    },
    {
      "cell_type": "code",
      "source": [
        "from sklearn.neighbors import KNeighborsRegressor\n",
        "neigh = KNeighborsRegressor(n_neighbors=2)\n",
        "neigh.fit(Y_train, X_train)\n",
        "# coefficient of determination\n",
        "print(\"The model training score is\" , neigh.score(Y_train, X_train))\n",
        "print(\"The model testing score is\" , neigh.score(Y_test, X_test))\n",
        "y_pred_tree = neigh.predict(Y_test)\n",
        "print(\"The model testing mean absolute error is\", mean_absolute_error(X_test, y_pred_tree))\n",
        "\n",
        "# comment: with one hot encoding dist, R^2 of test data went from -0.18 to 0.49"
      ],
      "metadata": {
        "colab": {
          "base_uri": "https://localhost:8080/"
        },
        "id": "RddA9NV0Vy7J",
        "outputId": "6dc8411a-bdad-418e-a6d7-e4e035b4ecab"
      },
      "execution_count": 138,
      "outputs": [
        {
          "output_type": "stream",
          "name": "stdout",
          "text": [
            "The model training score is 0.8530475969910492\n",
            "The model testing score is 0.4933174154801975\n",
            "The model testing mean absolute error is 1745021.8072289156\n"
          ]
        }
      ]
    },
    {
      "cell_type": "markdown",
      "source": [
        "#NN"
      ],
      "metadata": {
        "id": "79v--vQbV0GJ"
      }
    },
    {
      "cell_type": "code",
      "source": [
        "from sklearn.neural_network import MLPRegressor\n",
        "from sklearn.datasets import make_regression\n",
        "from sklearn.model_selection import train_test_split\n",
        "regr = MLPRegressor(random_state=1, max_iter=100).fit(Y_train, X_train)\n",
        "# coefficient of determination\n",
        "print(\"The model training score is\" , neigh.score(Y_train, X_train))\n",
        "print(\"The model testing score is\" , neigh.score(Y_test, X_test))\n",
        "y_pred_tree = regr.predict(Y_test)\n",
        "print(\"The model testing mean absolute error is\", mean_absolute_error(X_test, y_pred_tree))\n",
        "\n",
        "# comment: with one hot encoding dist, R^2 of test data went from -0.18 to 0.49"
      ],
      "metadata": {
        "colab": {
          "base_uri": "https://localhost:8080/"
        },
        "id": "vYnTOkJ0V1Cx",
        "outputId": "d8de0803-07cf-41c5-ff25-4b746abf1d82"
      },
      "execution_count": 139,
      "outputs": [
        {
          "output_type": "stream",
          "name": "stderr",
          "text": [
            "/usr/local/lib/python3.7/dist-packages/sklearn/neural_network/_multilayer_perceptron.py:1599: DataConversionWarning: A column-vector y was passed when a 1d array was expected. Please change the shape of y to (n_samples, ), for example using ravel().\n",
            "  y = column_or_1d(y, warn=True)\n"
          ]
        },
        {
          "output_type": "stream",
          "name": "stdout",
          "text": [
            "The model training score is 0.8530475969910492\n",
            "The model testing score is 0.4933174154801975\n",
            "The model testing mean absolute error is 8068511.126181235\n"
          ]
        },
        {
          "output_type": "stream",
          "name": "stderr",
          "text": [
            "/usr/local/lib/python3.7/dist-packages/sklearn/neural_network/_multilayer_perceptron.py:696: ConvergenceWarning: Stochastic Optimizer: Maximum iterations (100) reached and the optimization hasn't converged yet.\n",
            "  ConvergenceWarning,\n"
          ]
        }
      ]
    },
    {
      "cell_type": "markdown",
      "source": [
        "#XGBOOST TODO"
      ],
      "metadata": {
        "id": "ksrmeNO6I-wz"
      }
    },
    {
      "cell_type": "code",
      "source": [
        "from xgboost import XGBRegressor\n",
        "from sklearn.metrics import accuracy_score\n",
        "model = XGBRegressor(max_depth = 3)\n",
        "model.fit(Y_train, X_train)\n",
        "# make predictions for test data\n",
        "y_pred = model.predict(Y_test)\n",
        "predictions = [round(value) for value in y_pred]\n",
        "print(\"The model training score is\" , model.score(Y_train, X_train))\n",
        "print(\"The model testing score is\" , model.score(Y_test, X_test))\n",
        "print(\"The model testing mean absolute error is\", mean_absolute_error(X_test, y_pred))\n",
        "\n",
        "# comment: with one hot encoding dist, R^2 of test data went from 0.6 to 0.64"
      ],
      "metadata": {
        "colab": {
          "base_uri": "https://localhost:8080/"
        },
        "id": "G4A7e65KJACj",
        "outputId": "c1b7b807-3044-4491-b95d-70cceb2fae5a"
      },
      "execution_count": 140,
      "outputs": [
        {
          "output_type": "stream",
          "name": "stdout",
          "text": [
            "[13:07:13] WARNING: /workspace/src/objective/regression_obj.cu:152: reg:linear is now deprecated in favor of reg:squarederror.\n",
            "The model training score is 0.9436921651802413\n",
            "The model testing score is 0.6408820536640564\n",
            "The model testing mean absolute error is 1483619.7439759036\n"
          ]
        }
      ]
    }
  ]
}
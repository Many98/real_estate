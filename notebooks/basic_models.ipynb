{
  "nbformat": 4,
  "nbformat_minor": 0,
  "metadata": {
    "colab": {
      "provenance": [],
      "collapsed_sections": [],
      "authorship_tag": "ABX9TyP77kwZ8HDakKANAEIHpXb2",
      "include_colab_link": true
    },
    "kernelspec": {
      "name": "python3",
      "display_name": "Python 3"
    },
    "language_info": {
      "name": "python"
    }
  },
  "cells": [
    {
      "cell_type": "markdown",
      "metadata": {
        "id": "view-in-github",
        "colab_type": "text"
      },
      "source": [
        "<a href=\"https://colab.research.google.com/github/Many98/real_estate/blob/models/notebooks/basic_models.ipynb\" target=\"_parent\"><img src=\"https://colab.research.google.com/assets/colab-badge.svg\" alt=\"Open In Colab\"/></a>"
      ]
    },
    {
      "cell_type": "markdown",
      "source": [
        "#MODELS"
      ],
      "metadata": {
        "id": "hdAvBBnvVkpy"
      }
    },
    {
      "cell_type": "markdown",
      "source": [
        "# BEZREALITKY DATA"
      ],
      "metadata": {
        "id": "bWlDVW-p0QSN"
      }
    },
    {
      "cell_type": "code",
      "execution_count": 586,
      "metadata": {
        "id": "qKLC4wcAVi8Z"
      },
      "outputs": [],
      "source": [
        "import pandas as pd\n",
        "import numpy as np\n",
        "df = pd.read_csv('prodej_breality_scraped.csv')\n",
        "df = df.drop(df.columns[[0,2,4,8,9,10,11,12,13,14,15,16,17,18,19,20,21,22,26,34,35,36,37,38,39,40,41,42,43,44,45,46,47,48,49,50,51,52,54,55,56,75,76]], axis=1)\n",
        "df = df.drop(df.columns[[15,16,17,18,19,22,24,25,27,32]], axis=1)\n",
        "df['has_parking'] = df['has_parking'].astype('bool')\n",
        "df['has_loggia'] = df['has_loggia'].astype('bool')\n",
        "df['has_cellar'] = df['has_cellar'].astype('bool')\n",
        "df['energy_effeciency'] = df['energy_effeciency'].replace(['A','B','C','D','E','F','G'], [1,2,3,4,5,6,7])\n",
        "df[\"has_garden\"].fillna(0, inplace = True)\n",
        "df[\"cellar_area\"].fillna(0, inplace = True)\n",
        "df[\"loggia_area\"].fillna(0, inplace = True)\n",
        "df[\"balcony_area\"].fillna(0, inplace = True)\n",
        "df = df.dropna()\n",
        "one_hot = pd.get_dummies(df['ownership'])\n",
        "df = df.join(one_hot)\n",
        "df = df.drop(['ownership'], axis=1)\n",
        "# df.info()\n"
      ]
    },
    {
      "cell_type": "markdown",
      "source": [
        "CATEGORIZE DISTANCE"
      ],
      "metadata": {
        "id": "IDRoDIZGHli0"
      }
    },
    {
      "cell_type": "code",
      "source": [
        "# label 2100_MHD means <2000, because of feature_names may not contain [, ] or <\n",
        "'''df['MHD_dist'] = pd.cut(df['MHD_dist'], bins=[0, 100, 200, 300, 400, 500, 600, 700, 800, 900, 1000, 1100, 1200, 1300, 1400, 1500, 1600, 1700, 1800, 1900, 2000, 10000], include_lowest=True, labels=['100_MHD', '200_MHD', '300_MHD','400_MHD','500_MHD','600_MHD','700_MHD','800_MHD','900_MHD','1000_MHD','1100_MHD','1200_MHD','1300_MHD','1400_MHD','1500_MHD','1600_MHD','1700_MHD','1800_MHD','1900_MHD','2000_MHD','2100_MHD'])\n",
        "df['post_office_dist'] = pd.cut(df['post_office_dist'], bins=[0, 100, 200, 300, 400, 500, 600, 700, 800, 900, 1000, 1100, 1200, 1300, 1400, 1500, 1600, 1700, 1800, 1900, 2000, 10000], include_lowest=True, labels=['100_POST', '200_POST', '300_POST','400_POST','500_POST','600_POST','700_POST','800_POST','900_POST','1000_POST','1100_POST','1200_POST','1300_POST','1400_POST','1500_POST','1600_POST','1700_POST','1800_POST','1900_POST','2000_POST','2100_POST'])\n",
        "df['bank_dist'] = pd.cut(df['bank_dist'], bins=[0, 100, 200, 300, 400, 500, 600, 700, 800, 900, 1000, 1100, 1200, 1300, 1400, 1500, 1600, 1700, 1800, 1900, 2000, 10000], include_lowest=True, labels=['100_BANK', '200_BANK', '300_BANK','400_BANK','500_BANK','600_BANK','700_BANK','800_BANK','900_BANK','1000_BANK','1100_BANK','1200_BANK','1300_BANK','1400_BANK','1500_BANK','1600_BANK','1700_BANK','1800_BANK','1900_BANK','2000_BANK','<2000_BANK'])\n",
        "df['primary_school_dist'] = pd.cut(df['primary_school_dist'], bins=[0, 100, 200, 300, 400, 500, 600, 700, 800, 900, 1000, 1100, 1200, 1300, 1400, 1500, 1600, 1700, 1800, 1900, 2000, 10000], include_lowest=True, labels=['100_SCHOOL', '200_SCHOOL', '300_SCHOOL','400_SCHOOL','500_SCHOOL','600_SCHOOL','700_SCHOOL','800_SCHOOL','900_SCHOOL','1000_SCHOOL','1100_SCHOOL','1200_SCHOOL','1300_SCHOOL','1400_SCHOOL','1500_SCHOOL','1600_SCHOOL','1700_SCHOOL','1800_SCHOOL','1900_SCHOOL','2000_SCHOOL','2100_SCHOOL'])\n",
        "df['supermarket_grocery_dist'] = pd.cut(df['supermarket_grocery_dist'], bins=[0, 100, 200, 300, 400, 500, 600, 700, 800, 900, 1000, 1100, 1200, 1300, 1400, 1500, 1600, 1700, 1800, 1900, 2000, 10000], include_lowest=True, labels=['100_MARKET', '200_MARKET', '300_MARKET','400_MARKET','500_MARKET','600_MARKET','700_MARKET','800_MARKET','900_MARKET','1000_MARKET','1100_MARKET','1200_MARKET','1300_MARKET','1400_MARKET','1500_MARKET','1600_MARKET','1700_MARKET','1800_MARKET','1900_MARKET','2000_MARKET','2100_MARKET'])\n",
        "df['restaurant_pub_dist'] = pd.cut(df['restaurant_pub_dist'], bins=[0, 100, 200, 300, 400, 500, 600, 700, 800, 900, 1000, 1100, 1200, 1300, 1400, 1500, 1600, 1700, 1800, 1900, 2000, 10000], include_lowest=True, labels=['100_PUB', '200_PUB', '300_PUB','400_PUB','500_PUB','600_PUB','700_PUB','800_PUB','900_PUB','1000_PUB','1100_PUB','1200_PUB','1300_PUB','1400_PUB','1500_PUB','1600_PUB','1700_PUB','1800_PUB','1900_PUB','2000_PUB','2100_PUB'])\n",
        "df['playground_dist'] = pd.cut(df['playground_dist'], bins=[0, 100, 200, 300, 400, 500, 600, 700, 800, 900, 1000, 1100, 1200, 1300, 1400, 1500, 1600, 1700, 1800, 1900, 2000, 10000], include_lowest=True, labels=['100_PLAY', '200_PLAY', '300_PLAY','400_PLAY','500_PLAY','600_PLAY','700_PLAY','800_PLAY','900_PLAY','1000_PLAY','1100_PLAY','1200_PLAY','1300_PLAY','1400_PLAY','1500_PLAY','1600_PLAY','1700_PLAY','1800_PLAY','1900_PLAY','2000_PLAY','2100_PLAY'])\n",
        "df['sports_field_dist'] = pd.cut(df['sports_field_dist'], bins=[0, 100, 200, 300, 400, 500, 600, 700, 800, 900, 1000, 1100, 1200, 1300, 1400, 1500, 1600, 1700, 1800, 1900, 2000, 10000], include_lowest=True, labels=['100_SPORT', '200_SPORT', '300_SPORT','400_SPORT','500_SPORT','600_SPORT','700_SPORT','800_SPORT','900_SPORT','1000_SPORT','1100_SPORT','1200_SPORT','1300_SPORT','1400_SPORT','1500_SPORT','1600_SPORT','1700_SPORT','1800_SPORT','1900_SPORT','2000_SPORT','2100_SPORT'])\n",
        "df['pharmacy_dist'] = pd.cut(df['pharmacy_dist'], bins=[0, 100, 200, 300, 400, 500, 600, 700, 800, 900, 1000, 1100, 1200, 1300, 1400, 1500, 1600, 1700, 1800, 1900, 2000, 10000], include_lowest=True, labels=['100_PHARMACY', '200_PHARMACY', '300_PHARMACY', '400_PHARMACY', '500_PHARMACY', '600_PHARMACY', '700_PHARMACY', '800_PHARMACY', '900_SPHARMACY', '1000_PHARMACY', '1100_PHARMACY', '1200_PHARMACY', '1300_PHARMACY', '1400_PHARMACY', '1500_PHARMACY', '1600_PHARMACY', '1700_PHARMACY', '1800_PHARMACY', '1900_PHARMACY', '2000_PHARMACY', '2100_PHARMACY'])\n",
        "# df.max(axis=0)'''"
      ],
      "metadata": {
        "id": "CUnwDgC79bnJ",
        "colab": {
          "base_uri": "https://localhost:8080/",
          "height": 174
        },
        "outputId": "c0b792a8-9c2c-441c-b9cd-aee99776e8b9"
      },
      "execution_count": 587,
      "outputs": [
        {
          "output_type": "execute_result",
          "data": {
            "text/plain": [
              "\"df['MHD_dist'] = pd.cut(df['MHD_dist'], bins=[0, 100, 200, 300, 400, 500, 600, 700, 800, 900, 1000, 1100, 1200, 1300, 1400, 1500, 1600, 1700, 1800, 1900, 2000, 10000], include_lowest=True, labels=['100_MHD', '200_MHD', '300_MHD','400_MHD','500_MHD','600_MHD','700_MHD','800_MHD','900_MHD','1000_MHD','1100_MHD','1200_MHD','1300_MHD','1400_MHD','1500_MHD','1600_MHD','1700_MHD','1800_MHD','1900_MHD','2000_MHD','2100_MHD'])\\ndf['post_office_dist'] = pd.cut(df['post_office_dist'], bins=[0, 100, 200, 300, 400, 500, 600, 700, 800, 900, 1000, 1100, 1200, 1300, 1400, 1500, 1600, 1700, 1800, 1900, 2000, 10000], include_lowest=True, labels=['100_POST', '200_POST', '300_POST','400_POST','500_POST','600_POST','700_POST','800_POST','900_POST','1000_POST','1100_POST','1200_POST','1300_POST','1400_POST','1500_POST','1600_POST','1700_POST','1800_POST','1900_POST','2000_POST','2100_POST'])\\ndf['bank_dist'] = pd.cut(df['bank_dist'], bins=[0, 100, 200, 300, 400, 500, 600, 700, 800, 900, 1000, 1100, 1200, 1300, 1400, 1500, 1600, 1700, 1800, 1900, 2000, 10000], include_lowest=True, labels=['100_BANK', '200_BANK', '300_BANK','400_BANK','500_BANK','600_BANK','700_BANK','800_BANK','900_BANK','1000_BANK','1100_BANK','1200_BANK','1300_BANK','1400_BANK','1500_BANK','1600_BANK','1700_BANK','1800_BANK','1900_BANK','2000_BANK','<2000_BANK'])\\ndf['primary_school_dist'] = pd.cut(df['primary_school_dist'], bins=[0, 100, 200, 300, 400, 500, 600, 700, 800, 900, 1000, 1100, 1200, 1300, 1400, 1500, 1600, 1700, 1800, 1900, 2000, 10000], include_lowest=True, labels=['100_SCHOOL', '200_SCHOOL', '300_SCHOOL','400_SCHOOL','500_SCHOOL','600_SCHOOL','700_SCHOOL','800_SCHOOL','900_SCHOOL','1000_SCHOOL','1100_SCHOOL','1200_SCHOOL','1300_SCHOOL','1400_SCHOOL','1500_SCHOOL','1600_SCHOOL','1700_SCHOOL','1800_SCHOOL','1900_SCHOOL','2000_SCHOOL','2100_SCHOOL'])\\ndf['supermarket_grocery_dist'] = pd.cut(df['supermarket_grocery_dist'], bins=[0, 100, 200, 300, 400, 500, 600, 700, 800, 900, 1000, 1100, 1200, 1300, 1400, 1500, 1600, 1700, 1800, 1900, 2000, 10000], include_lowest=True, labels=['100_MARKET', '200_MARKET', '300_MARKET','400_MARKET','500_MARKET','600_MARKET','700_MARKET','800_MARKET','900_MARKET','1000_MARKET','1100_MARKET','1200_MARKET','1300_MARKET','1400_MARKET','1500_MARKET','1600_MARKET','1700_MARKET','1800_MARKET','1900_MARKET','2000_MARKET','2100_MARKET'])\\ndf['restaurant_pub_dist'] = pd.cut(df['restaurant_pub_dist'], bins=[0, 100, 200, 300, 400, 500, 600, 700, 800, 900, 1000, 1100, 1200, 1300, 1400, 1500, 1600, 1700, 1800, 1900, 2000, 10000], include_lowest=True, labels=['100_PUB', '200_PUB', '300_PUB','400_PUB','500_PUB','600_PUB','700_PUB','800_PUB','900_PUB','1000_PUB','1100_PUB','1200_PUB','1300_PUB','1400_PUB','1500_PUB','1600_PUB','1700_PUB','1800_PUB','1900_PUB','2000_PUB','2100_PUB'])\\ndf['playground_dist'] = pd.cut(df['playground_dist'], bins=[0, 100, 200, 300, 400, 500, 600, 700, 800, 900, 1000, 1100, 1200, 1300, 1400, 1500, 1600, 1700, 1800, 1900, 2000, 10000], include_lowest=True, labels=['100_PLAY', '200_PLAY', '300_PLAY','400_PLAY','500_PLAY','600_PLAY','700_PLAY','800_PLAY','900_PLAY','1000_PLAY','1100_PLAY','1200_PLAY','1300_PLAY','1400_PLAY','1500_PLAY','1600_PLAY','1700_PLAY','1800_PLAY','1900_PLAY','2000_PLAY','2100_PLAY'])\\ndf['sports_field_dist'] = pd.cut(df['sports_field_dist'], bins=[0, 100, 200, 300, 400, 500, 600, 700, 800, 900, 1000, 1100, 1200, 1300, 1400, 1500, 1600, 1700, 1800, 1900, 2000, 10000], include_lowest=True, labels=['100_SPORT', '200_SPORT', '300_SPORT','400_SPORT','500_SPORT','600_SPORT','700_SPORT','800_SPORT','900_SPORT','1000_SPORT','1100_SPORT','1200_SPORT','1300_SPORT','1400_SPORT','1500_SPORT','1600_SPORT','1700_SPORT','1800_SPORT','1900_SPORT','2000_SPORT','2100_SPORT'])\\ndf['pharmacy_dist'] = pd.cut(df['pharmacy_dist'], bins=[0, 100, 200, 300, 400, 500, 600, 700, 800, 900, 1000, 1100, 1200, 1300, 1400, 1500, 1600, 1700, 1800, 1900, 2000, 10000], include_lowest=True, labels=['100_PHARMACY', '200_PHARMACY', '300_PHARMACY', '400_PHARMACY', '500_PHARMACY', '600_PHARMACY', '700_PHARMACY', '800_PHARMACY', '900_SPHARMACY', '1000_PHARMACY', '1100_PHARMACY', '1200_PHARMACY', '1300_PHARMACY', '1400_PHARMACY', '1500_PHARMACY', '1600_PHARMACY', '1700_PHARMACY', '1800_PHARMACY', '1900_PHARMACY', '2000_PHARMACY', '2100_PHARMACY'])\\n# df.max(axis=0)\""
            ],
            "application/vnd.google.colaboratory.intrinsic+json": {
              "type": "string"
            }
          },
          "metadata": {},
          "execution_count": 587
        }
      ]
    },
    {
      "cell_type": "code",
      "source": [
        "'''dist = ['100_', '200_', '300_','400_','500_','600_','700_','800_','900_S','1000_','1100_','1200_','1300_','1400_','1500_','1600_','1700_','1800_','1900_','2000_','2100_']\n",
        "label_dist = []\n",
        "for i in dist:\n",
        "  label_dist.append(i + 'PHARMACY')\n",
        "print(label_dist)'''"
      ],
      "metadata": {
        "colab": {
          "base_uri": "https://localhost:8080/",
          "height": 70
        },
        "id": "yh70VVjDv5VQ",
        "outputId": "7a9921d2-7ac7-4364-949d-e88c1c828375"
      },
      "execution_count": 588,
      "outputs": [
        {
          "output_type": "execute_result",
          "data": {
            "text/plain": [
              "\"dist = ['100_', '200_', '300_','400_','500_','600_','700_','800_','900_S','1000_','1100_','1200_','1300_','1400_','1500_','1600_','1700_','1800_','1900_','2000_','2100_']\\nlabel_dist = []\\nfor i in dist:\\n  label_dist.append(i + 'PHARMACY')\\nprint(label_dist)\""
            ],
            "application/vnd.google.colaboratory.intrinsic+json": {
              "type": "string"
            }
          },
          "metadata": {},
          "execution_count": 588
        }
      ]
    },
    {
      "cell_type": "code",
      "source": [
        "'''one_hot = pd.get_dummies(df['MHD_dist']).astype('bool')\n",
        "df = df.join(one_hot)\n",
        "df = df.drop(['MHD_dist'], axis=1)\n",
        "one_hot = pd.get_dummies(df['post_office_dist']).astype('bool')\n",
        "df = df.join(one_hot)\n",
        "df = df.drop(['post_office_dist'], axis=1)\n",
        "one_hot = pd.get_dummies(df['bank_dist']).astype('bool')\n",
        "df = df.join(one_hot)\n",
        "df = df.drop(['bank_dist'], axis=1)\n",
        "one_hot = pd.get_dummies(df['primary_school_dist']).astype('bool')\n",
        "df = df.join(one_hot)\n",
        "df = df.drop(['primary_school_dist'], axis=1)\n",
        "one_hot = pd.get_dummies(df['supermarket_grocery_dist']).astype('bool')\n",
        "df = df.join(one_hot)\n",
        "df = df.drop(['supermarket_grocery_dist'], axis=1)\n",
        "one_hot = pd.get_dummies(df['restaurant_pub_dist']).astype('bool')\n",
        "df = df.join(one_hot)\n",
        "df = df.drop(['restaurant_pub_dist'], axis=1)\n",
        "one_hot = pd.get_dummies(df['playground_dist']).astype('bool')\n",
        "df = df.join(one_hot)\n",
        "df = df.drop(['playground_dist'], axis=1)\n",
        "one_hot = pd.get_dummies(df['sports_field_dist']).astype('bool')\n",
        "df = df.join(one_hot)\n",
        "df = df.drop(['sports_field_dist'], axis=1)\n",
        "one_hot = pd.get_dummies(df['pharmacy_dist']).astype('bool')\n",
        "df = df.join(one_hot)\n",
        "df = df.drop(['pharmacy_dist'], axis=1)'''\n",
        "df['DRUZSTEVNI'] = df['DRUZSTEVNI'].astype('bool')\n",
        "df['OSOBNI'] = df['OSOBNI'].astype('bool')\n",
        "df['UNDEFINED'] = df['UNDEFINED'].astype('bool')"
      ],
      "metadata": {
        "id": "xy-nN_c5J2U7"
      },
      "execution_count": 589,
      "outputs": []
    },
    {
      "cell_type": "code",
      "source": [
        "df = df.drop(df.columns[[14,15,16,17,18,19,20,21,22,11,12,13]], axis=1)\n",
        "df.info()"
      ],
      "metadata": {
        "colab": {
          "base_uri": "https://localhost:8080/"
        },
        "id": "iwaLCH60tRxx",
        "outputId": "e9cb14a3-ade3-401e-aca4-d65c4942ad1f"
      },
      "execution_count": 590,
      "outputs": [
        {
          "output_type": "stream",
          "name": "stdout",
          "text": [
            "<class 'pandas.core.frame.DataFrame'>\n",
            "Int64Index: 501 entries, 0 to 799\n",
            "Data columns (total 14 columns):\n",
            " #   Column             Non-Null Count  Dtype  \n",
            "---  ------             --------------  -----  \n",
            " 0   price              501 non-null    int64  \n",
            " 1   usable_area        501 non-null    int64  \n",
            " 2   floor              501 non-null    float64\n",
            " 3   energy_effeciency  501 non-null    float64\n",
            " 4   has_lift           501 non-null    bool   \n",
            " 5   has_garage         501 non-null    bool   \n",
            " 6   has_cellar         501 non-null    bool   \n",
            " 7   has_loggia         501 non-null    bool   \n",
            " 8   has_balcony        501 non-null    bool   \n",
            " 9   has_garden         501 non-null    float64\n",
            " 10  has_parking        501 non-null    bool   \n",
            " 11  DRUZSTEVNI         501 non-null    bool   \n",
            " 12  OSOBNI             501 non-null    bool   \n",
            " 13  UNDEFINED          501 non-null    bool   \n",
            "dtypes: bool(9), float64(3), int64(2)\n",
            "memory usage: 44.1 KB\n"
          ]
        }
      ]
    },
    {
      "cell_type": "markdown",
      "source": [
        "#SREALITY DATA"
      ],
      "metadata": {
        "id": "SCEDfyw90UXe"
      }
    },
    {
      "cell_type": "code",
      "source": [
        "import re\n",
        "dfs = pd.read_csv('prodej_sreality_scraped.csv')\n",
        "dfs = dfs.drop(dfs.columns[[0,2,4,8,9,10,11,12,13,14,15,16,17,18,19,20,21,22,23,24,25,26,27,28,29,30,31,32,33,34,35,36,37,38,39,40,41,45,50]], axis=1)\n",
        "one_hot = pd.get_dummies(dfs['ownership'])\n",
        "dfs = dfs.join(one_hot)\n",
        "dfs = dfs.drop(['ownership'], axis=1)\n",
        "dfs.rename(columns = {'Družstevní':'DRUZSTEVNI'}, inplace = True)\n",
        "dfs.rename(columns = {'Osobní':'OSOBNI'}, inplace = True)\n",
        "dfs.rename(columns = {'Státní/obecní':'UNDEFINED'}, inplace = True)\n",
        "dfs[\"has_lift\"].fillna(0, inplace = True)\n",
        "dfs[\"has_garage\"].fillna(0, inplace = True)\n",
        "dfs[\"has_cellar\"].fillna(0, inplace = True)\n",
        "dfs[\"has_balcony\"].fillna(0, inplace = True)\n",
        "dfs[\"has_garden\"].fillna(0, inplace = True)\n",
        "dfs[\"has_parking\"].fillna(0, inplace = True)\n",
        "dfs[\"has_loggia\"].fillna(0, inplace = True)\n",
        "dfs = dfs.dropna()\n",
        "dfs['floor'] = dfs['floor'].apply(lambda x: x.replace('přízemí', '0.') if x is not np.nan else np.nan)\n",
        "dfs['floor'] = dfs['floor'].apply(lambda x: x.split('.')[0] if x is not np.nan else np.nan)\n",
        "dfs['price'] = dfs['price'].apply(lambda x: x.replace('Informace o ceně na dotaz', 'info') if x is not np.nan else np.nan)\n",
        "dfs['price'] = dfs['price'].replace('info',np.NaN)\n",
        "dfs['price'] = dfs['price'].apply(lambda x: x.split(' ')[0] if x is not np.nan else np.nan)\n",
        "#dfs['price'] = dfs['price'].map(lambda x: x.rstrip('Kč za nemovitost'))\n",
        "#dfs['price'] = dfs['price'].map(lambda x: x.rstrip('Kč za nemovitost (k jednání)'))\n",
        "#dfs['usable_area'] = dfs['usable_area'].map(lambda x: x.rstrip(' m2'))\n",
        "dfs = dfs.reset_index(drop=True)\n",
        "for i in range(3559):\n",
        "  if re.findall(r'\\d+', dfs['usable_area'][i]) == []:\n",
        "    pass\n",
        "  else: \n",
        "    dfs['usable_area'][i] = (re.findall(r'\\d+', dfs['usable_area'][i])[0])\n",
        "\n",
        "  dfs['energy_effeciency'][i] = dfs['energy_effeciency'][i][0:7]\n",
        "  dfs['energy_effeciency'][i] = dfs['energy_effeciency'][i][-1:]\n",
        "\n",
        "  if dfs['has_lift'][i] == 'ano':\n",
        "    dfs['has_lift'][i] = 1\n",
        "  elif dfs['has_lift'][i] == 'ne':\n",
        "    dfs['has_lift'][i] = 0\n",
        "  if dfs['has_garage'][i] == '1' or '2':\n",
        "    dfs['has_garage'][i] = 1\n",
        "  if dfs['has_parking'][i] == '1' or '2':\n",
        "    dfs['has_parking'][i] = 1\n",
        "  if dfs['has_cellar'][i] == 'ano':\n",
        "    dfs['has_cellar'][i] = 1"
      ],
      "metadata": {
        "colab": {
          "base_uri": "https://localhost:8080/"
        },
        "id": "-vjHw6z42b6M",
        "outputId": "32013785-458a-4139-9ee5-15f0c8911e24"
      },
      "execution_count": 591,
      "outputs": [
        {
          "output_type": "stream",
          "name": "stderr",
          "text": [
            "/usr/local/lib/python3.7/dist-packages/ipykernel_launcher.py:31: SettingWithCopyWarning: \n",
            "A value is trying to be set on a copy of a slice from a DataFrame\n",
            "\n",
            "See the caveats in the documentation: https://pandas.pydata.org/pandas-docs/stable/user_guide/indexing.html#returning-a-view-versus-a-copy\n",
            "/usr/local/lib/python3.7/dist-packages/ipykernel_launcher.py:33: SettingWithCopyWarning: \n",
            "A value is trying to be set on a copy of a slice from a DataFrame\n",
            "\n",
            "See the caveats in the documentation: https://pandas.pydata.org/pandas-docs/stable/user_guide/indexing.html#returning-a-view-versus-a-copy\n",
            "/usr/local/lib/python3.7/dist-packages/ipykernel_launcher.py:34: SettingWithCopyWarning: \n",
            "A value is trying to be set on a copy of a slice from a DataFrame\n",
            "\n",
            "See the caveats in the documentation: https://pandas.pydata.org/pandas-docs/stable/user_guide/indexing.html#returning-a-view-versus-a-copy\n",
            "/usr/local/lib/python3.7/dist-packages/ipykernel_launcher.py:37: SettingWithCopyWarning: \n",
            "A value is trying to be set on a copy of a slice from a DataFrame\n",
            "\n",
            "See the caveats in the documentation: https://pandas.pydata.org/pandas-docs/stable/user_guide/indexing.html#returning-a-view-versus-a-copy\n",
            "/usr/local/lib/python3.7/dist-packages/ipykernel_launcher.py:41: SettingWithCopyWarning: \n",
            "A value is trying to be set on a copy of a slice from a DataFrame\n",
            "\n",
            "See the caveats in the documentation: https://pandas.pydata.org/pandas-docs/stable/user_guide/indexing.html#returning-a-view-versus-a-copy\n",
            "/usr/local/lib/python3.7/dist-packages/ipykernel_launcher.py:43: SettingWithCopyWarning: \n",
            "A value is trying to be set on a copy of a slice from a DataFrame\n",
            "\n",
            "See the caveats in the documentation: https://pandas.pydata.org/pandas-docs/stable/user_guide/indexing.html#returning-a-view-versus-a-copy\n",
            "/usr/local/lib/python3.7/dist-packages/ipykernel_launcher.py:45: SettingWithCopyWarning: \n",
            "A value is trying to be set on a copy of a slice from a DataFrame\n",
            "\n",
            "See the caveats in the documentation: https://pandas.pydata.org/pandas-docs/stable/user_guide/indexing.html#returning-a-view-versus-a-copy\n",
            "/usr/local/lib/python3.7/dist-packages/ipykernel_launcher.py:39: SettingWithCopyWarning: \n",
            "A value is trying to be set on a copy of a slice from a DataFrame\n",
            "\n",
            "See the caveats in the documentation: https://pandas.pydata.org/pandas-docs/stable/user_guide/indexing.html#returning-a-view-versus-a-copy\n"
          ]
        }
      ]
    },
    {
      "cell_type": "code",
      "source": [
        "dfs = dfs.dropna()   \n",
        "dfs['price'] = dfs['price'].replace('info',np.NaN)\n",
        "dfs = dfs.dropna()  \n",
        "dfs = dfs.reset_index(drop=True) \n",
        "dfs"
      ],
      "metadata": {
        "colab": {
          "base_uri": "https://localhost:8080/",
          "height": 592
        },
        "id": "jELdI44HS-Iw",
        "outputId": "b9765a8c-6ea1-42fe-a96d-84f959984886"
      },
      "execution_count": 592,
      "outputs": [
        {
          "output_type": "stream",
          "name": "stderr",
          "text": [
            "/usr/local/lib/python3.7/dist-packages/ipykernel_launcher.py:2: SettingWithCopyWarning: \n",
            "A value is trying to be set on a copy of a slice from a DataFrame.\n",
            "Try using .loc[row_indexer,col_indexer] = value instead\n",
            "\n",
            "See the caveats in the documentation: https://pandas.pydata.org/pandas-docs/stable/user_guide/indexing.html#returning-a-view-versus-a-copy\n",
            "  \n"
          ]
        },
        {
          "output_type": "execute_result",
          "data": {
            "text/plain": [
              "         price usable_area floor energy_effeciency has_lift has_garage  \\\n",
              "0      6842000          26     2                 G        1          1   \n",
              "1      6490000          61     4                 E        1          1   \n",
              "2      6909025          43     3                 B        0          1   \n",
              "3      5819600          36     2                 B        0          1   \n",
              "4      6500000          39     3                 D        0          1   \n",
              "...        ...         ...   ...               ...      ...        ...   \n",
              "3369  15490000         130     5                 G        1          1   \n",
              "3370   9354044          79     2                 B        1          1   \n",
              "3371   9857505          64     3                 B        1          1   \n",
              "3372   7828000          38     6                 G        1          1   \n",
              "3373   8968000          91     5                 B        1          1   \n",
              "\n",
              "     has_cellar has_loggia has_balcony  has_garden has_parking  DRUZSTEVNI  \\\n",
              "0             1          0           0         0.0           1           0   \n",
              "1             0          0           0         0.0           1           0   \n",
              "2          2 m2          0        3 m2         0.0           1           0   \n",
              "3          2 m2          0           0         0.0           1           0   \n",
              "4             0          0           0         0.0           1           0   \n",
              "...         ...        ...         ...         ...         ...         ...   \n",
              "3369          0      14 m2       14 m2         0.0           1           1   \n",
              "3370          1       5 m2           0         0.0           1           0   \n",
              "3371          0       5 m2           0         0.0           1           0   \n",
              "3372          0          0           0         0.0           1           0   \n",
              "3373       3 m2          0           0         0.0           1           0   \n",
              "\n",
              "      OSOBNI  UNDEFINED  \n",
              "0          1          0  \n",
              "1          1          0  \n",
              "2          1          0  \n",
              "3          1          0  \n",
              "4          0          1  \n",
              "...      ...        ...  \n",
              "3369       0          0  \n",
              "3370       1          0  \n",
              "3371       1          0  \n",
              "3372       1          0  \n",
              "3373       1          0  \n",
              "\n",
              "[3374 rows x 14 columns]"
            ],
            "text/html": [
              "\n",
              "  <div id=\"df-5888505d-06bf-429b-a333-5f4f4139cb5b\">\n",
              "    <div class=\"colab-df-container\">\n",
              "      <div>\n",
              "<style scoped>\n",
              "    .dataframe tbody tr th:only-of-type {\n",
              "        vertical-align: middle;\n",
              "    }\n",
              "\n",
              "    .dataframe tbody tr th {\n",
              "        vertical-align: top;\n",
              "    }\n",
              "\n",
              "    .dataframe thead th {\n",
              "        text-align: right;\n",
              "    }\n",
              "</style>\n",
              "<table border=\"1\" class=\"dataframe\">\n",
              "  <thead>\n",
              "    <tr style=\"text-align: right;\">\n",
              "      <th></th>\n",
              "      <th>price</th>\n",
              "      <th>usable_area</th>\n",
              "      <th>floor</th>\n",
              "      <th>energy_effeciency</th>\n",
              "      <th>has_lift</th>\n",
              "      <th>has_garage</th>\n",
              "      <th>has_cellar</th>\n",
              "      <th>has_loggia</th>\n",
              "      <th>has_balcony</th>\n",
              "      <th>has_garden</th>\n",
              "      <th>has_parking</th>\n",
              "      <th>DRUZSTEVNI</th>\n",
              "      <th>OSOBNI</th>\n",
              "      <th>UNDEFINED</th>\n",
              "    </tr>\n",
              "  </thead>\n",
              "  <tbody>\n",
              "    <tr>\n",
              "      <th>0</th>\n",
              "      <td>6842000</td>\n",
              "      <td>26</td>\n",
              "      <td>2</td>\n",
              "      <td>G</td>\n",
              "      <td>1</td>\n",
              "      <td>1</td>\n",
              "      <td>1</td>\n",
              "      <td>0</td>\n",
              "      <td>0</td>\n",
              "      <td>0.0</td>\n",
              "      <td>1</td>\n",
              "      <td>0</td>\n",
              "      <td>1</td>\n",
              "      <td>0</td>\n",
              "    </tr>\n",
              "    <tr>\n",
              "      <th>1</th>\n",
              "      <td>6490000</td>\n",
              "      <td>61</td>\n",
              "      <td>4</td>\n",
              "      <td>E</td>\n",
              "      <td>1</td>\n",
              "      <td>1</td>\n",
              "      <td>0</td>\n",
              "      <td>0</td>\n",
              "      <td>0</td>\n",
              "      <td>0.0</td>\n",
              "      <td>1</td>\n",
              "      <td>0</td>\n",
              "      <td>1</td>\n",
              "      <td>0</td>\n",
              "    </tr>\n",
              "    <tr>\n",
              "      <th>2</th>\n",
              "      <td>6909025</td>\n",
              "      <td>43</td>\n",
              "      <td>3</td>\n",
              "      <td>B</td>\n",
              "      <td>0</td>\n",
              "      <td>1</td>\n",
              "      <td>2 m2</td>\n",
              "      <td>0</td>\n",
              "      <td>3 m2</td>\n",
              "      <td>0.0</td>\n",
              "      <td>1</td>\n",
              "      <td>0</td>\n",
              "      <td>1</td>\n",
              "      <td>0</td>\n",
              "    </tr>\n",
              "    <tr>\n",
              "      <th>3</th>\n",
              "      <td>5819600</td>\n",
              "      <td>36</td>\n",
              "      <td>2</td>\n",
              "      <td>B</td>\n",
              "      <td>0</td>\n",
              "      <td>1</td>\n",
              "      <td>2 m2</td>\n",
              "      <td>0</td>\n",
              "      <td>0</td>\n",
              "      <td>0.0</td>\n",
              "      <td>1</td>\n",
              "      <td>0</td>\n",
              "      <td>1</td>\n",
              "      <td>0</td>\n",
              "    </tr>\n",
              "    <tr>\n",
              "      <th>4</th>\n",
              "      <td>6500000</td>\n",
              "      <td>39</td>\n",
              "      <td>3</td>\n",
              "      <td>D</td>\n",
              "      <td>0</td>\n",
              "      <td>1</td>\n",
              "      <td>0</td>\n",
              "      <td>0</td>\n",
              "      <td>0</td>\n",
              "      <td>0.0</td>\n",
              "      <td>1</td>\n",
              "      <td>0</td>\n",
              "      <td>0</td>\n",
              "      <td>1</td>\n",
              "    </tr>\n",
              "    <tr>\n",
              "      <th>...</th>\n",
              "      <td>...</td>\n",
              "      <td>...</td>\n",
              "      <td>...</td>\n",
              "      <td>...</td>\n",
              "      <td>...</td>\n",
              "      <td>...</td>\n",
              "      <td>...</td>\n",
              "      <td>...</td>\n",
              "      <td>...</td>\n",
              "      <td>...</td>\n",
              "      <td>...</td>\n",
              "      <td>...</td>\n",
              "      <td>...</td>\n",
              "      <td>...</td>\n",
              "    </tr>\n",
              "    <tr>\n",
              "      <th>3369</th>\n",
              "      <td>15490000</td>\n",
              "      <td>130</td>\n",
              "      <td>5</td>\n",
              "      <td>G</td>\n",
              "      <td>1</td>\n",
              "      <td>1</td>\n",
              "      <td>0</td>\n",
              "      <td>14 m2</td>\n",
              "      <td>14 m2</td>\n",
              "      <td>0.0</td>\n",
              "      <td>1</td>\n",
              "      <td>1</td>\n",
              "      <td>0</td>\n",
              "      <td>0</td>\n",
              "    </tr>\n",
              "    <tr>\n",
              "      <th>3370</th>\n",
              "      <td>9354044</td>\n",
              "      <td>79</td>\n",
              "      <td>2</td>\n",
              "      <td>B</td>\n",
              "      <td>1</td>\n",
              "      <td>1</td>\n",
              "      <td>1</td>\n",
              "      <td>5 m2</td>\n",
              "      <td>0</td>\n",
              "      <td>0.0</td>\n",
              "      <td>1</td>\n",
              "      <td>0</td>\n",
              "      <td>1</td>\n",
              "      <td>0</td>\n",
              "    </tr>\n",
              "    <tr>\n",
              "      <th>3371</th>\n",
              "      <td>9857505</td>\n",
              "      <td>64</td>\n",
              "      <td>3</td>\n",
              "      <td>B</td>\n",
              "      <td>1</td>\n",
              "      <td>1</td>\n",
              "      <td>0</td>\n",
              "      <td>5 m2</td>\n",
              "      <td>0</td>\n",
              "      <td>0.0</td>\n",
              "      <td>1</td>\n",
              "      <td>0</td>\n",
              "      <td>1</td>\n",
              "      <td>0</td>\n",
              "    </tr>\n",
              "    <tr>\n",
              "      <th>3372</th>\n",
              "      <td>7828000</td>\n",
              "      <td>38</td>\n",
              "      <td>6</td>\n",
              "      <td>G</td>\n",
              "      <td>1</td>\n",
              "      <td>1</td>\n",
              "      <td>0</td>\n",
              "      <td>0</td>\n",
              "      <td>0</td>\n",
              "      <td>0.0</td>\n",
              "      <td>1</td>\n",
              "      <td>0</td>\n",
              "      <td>1</td>\n",
              "      <td>0</td>\n",
              "    </tr>\n",
              "    <tr>\n",
              "      <th>3373</th>\n",
              "      <td>8968000</td>\n",
              "      <td>91</td>\n",
              "      <td>5</td>\n",
              "      <td>B</td>\n",
              "      <td>1</td>\n",
              "      <td>1</td>\n",
              "      <td>3 m2</td>\n",
              "      <td>0</td>\n",
              "      <td>0</td>\n",
              "      <td>0.0</td>\n",
              "      <td>1</td>\n",
              "      <td>0</td>\n",
              "      <td>1</td>\n",
              "      <td>0</td>\n",
              "    </tr>\n",
              "  </tbody>\n",
              "</table>\n",
              "<p>3374 rows × 14 columns</p>\n",
              "</div>\n",
              "      <button class=\"colab-df-convert\" onclick=\"convertToInteractive('df-5888505d-06bf-429b-a333-5f4f4139cb5b')\"\n",
              "              title=\"Convert this dataframe to an interactive table.\"\n",
              "              style=\"display:none;\">\n",
              "        \n",
              "  <svg xmlns=\"http://www.w3.org/2000/svg\" height=\"24px\"viewBox=\"0 0 24 24\"\n",
              "       width=\"24px\">\n",
              "    <path d=\"M0 0h24v24H0V0z\" fill=\"none\"/>\n",
              "    <path d=\"M18.56 5.44l.94 2.06.94-2.06 2.06-.94-2.06-.94-.94-2.06-.94 2.06-2.06.94zm-11 1L8.5 8.5l.94-2.06 2.06-.94-2.06-.94L8.5 2.5l-.94 2.06-2.06.94zm10 10l.94 2.06.94-2.06 2.06-.94-2.06-.94-.94-2.06-.94 2.06-2.06.94z\"/><path d=\"M17.41 7.96l-1.37-1.37c-.4-.4-.92-.59-1.43-.59-.52 0-1.04.2-1.43.59L10.3 9.45l-7.72 7.72c-.78.78-.78 2.05 0 2.83L4 21.41c.39.39.9.59 1.41.59.51 0 1.02-.2 1.41-.59l7.78-7.78 2.81-2.81c.8-.78.8-2.07 0-2.86zM5.41 20L4 18.59l7.72-7.72 1.47 1.35L5.41 20z\"/>\n",
              "  </svg>\n",
              "      </button>\n",
              "      \n",
              "  <style>\n",
              "    .colab-df-container {\n",
              "      display:flex;\n",
              "      flex-wrap:wrap;\n",
              "      gap: 12px;\n",
              "    }\n",
              "\n",
              "    .colab-df-convert {\n",
              "      background-color: #E8F0FE;\n",
              "      border: none;\n",
              "      border-radius: 50%;\n",
              "      cursor: pointer;\n",
              "      display: none;\n",
              "      fill: #1967D2;\n",
              "      height: 32px;\n",
              "      padding: 0 0 0 0;\n",
              "      width: 32px;\n",
              "    }\n",
              "\n",
              "    .colab-df-convert:hover {\n",
              "      background-color: #E2EBFA;\n",
              "      box-shadow: 0px 1px 2px rgba(60, 64, 67, 0.3), 0px 1px 3px 1px rgba(60, 64, 67, 0.15);\n",
              "      fill: #174EA6;\n",
              "    }\n",
              "\n",
              "    [theme=dark] .colab-df-convert {\n",
              "      background-color: #3B4455;\n",
              "      fill: #D2E3FC;\n",
              "    }\n",
              "\n",
              "    [theme=dark] .colab-df-convert:hover {\n",
              "      background-color: #434B5C;\n",
              "      box-shadow: 0px 1px 3px 1px rgba(0, 0, 0, 0.15);\n",
              "      filter: drop-shadow(0px 1px 2px rgba(0, 0, 0, 0.3));\n",
              "      fill: #FFFFFF;\n",
              "    }\n",
              "  </style>\n",
              "\n",
              "      <script>\n",
              "        const buttonEl =\n",
              "          document.querySelector('#df-5888505d-06bf-429b-a333-5f4f4139cb5b button.colab-df-convert');\n",
              "        buttonEl.style.display =\n",
              "          google.colab.kernel.accessAllowed ? 'block' : 'none';\n",
              "\n",
              "        async function convertToInteractive(key) {\n",
              "          const element = document.querySelector('#df-5888505d-06bf-429b-a333-5f4f4139cb5b');\n",
              "          const dataTable =\n",
              "            await google.colab.kernel.invokeFunction('convertToInteractive',\n",
              "                                                     [key], {});\n",
              "          if (!dataTable) return;\n",
              "\n",
              "          const docLinkHtml = 'Like what you see? Visit the ' +\n",
              "            '<a target=\"_blank\" href=https://colab.research.google.com/notebooks/data_table.ipynb>data table notebook</a>'\n",
              "            + ' to learn more about interactive tables.';\n",
              "          element.innerHTML = '';\n",
              "          dataTable['output_type'] = 'display_data';\n",
              "          await google.colab.output.renderOutput(dataTable, element);\n",
              "          const docLink = document.createElement('div');\n",
              "          docLink.innerHTML = docLinkHtml;\n",
              "          element.appendChild(docLink);\n",
              "        }\n",
              "      </script>\n",
              "    </div>\n",
              "  </div>\n",
              "  "
            ]
          },
          "metadata": {},
          "execution_count": 592
        }
      ]
    },
    {
      "cell_type": "code",
      "source": [
        "dfs['has_cellar'] = dfs['has_cellar'].astype('bool')\n",
        "dfs['has_lift'] = dfs['has_lift'].astype('bool')\n",
        "dfs['has_garage'] = dfs['has_garage'].astype('bool')\n",
        "dfs['has_parking'] = dfs['has_parking'].astype('bool')\n",
        "dfs['has_loggia'] = dfs['has_loggia'].astype('bool')\n",
        "dfs['has_balcony'] = dfs['has_balcony'].astype('bool')\n",
        "dfs['DRUZSTEVNI'] = dfs['DRUZSTEVNI'].astype('bool')\n",
        "dfs['OSOBNI'] = dfs['OSOBNI'].astype('bool')\n",
        "dfs['UNDEFINED'] = dfs['UNDEFINED'].astype('bool')\n",
        "dfs['energy_effeciency'] = dfs['energy_effeciency'].replace(['A','B','C','D','E','F','G'], [1,2,3,4,5,6,7])\n",
        "dfs['energy_effeciency'] = dfs['energy_effeciency'].astype('float')\n",
        "dfs['usable_area'] = dfs['usable_area'].astype('int')\n",
        "dfs['floor'] = dfs['floor'].astype(float)\n",
        "dfs = dfs.reset_index(drop=True) \n",
        "for i in range(3373):\n",
        "  dfs['price'][i] = dfs['price'][i].replace(u'\\xa0', u'')\n",
        "  dfs['price'][i] = dfs['price'][i].replace(u'Kč', u'')\n",
        "dfs['price'] = dfs['price'].astype('int')\n",
        "dfs.info()"
      ],
      "metadata": {
        "colab": {
          "base_uri": "https://localhost:8080/"
        },
        "id": "dLzTZkJNElaA",
        "outputId": "7b493c94-4374-4ce2-b8c8-23c924a55cef"
      },
      "execution_count": 593,
      "outputs": [
        {
          "output_type": "stream",
          "name": "stderr",
          "text": [
            "/usr/local/lib/python3.7/dist-packages/ipykernel_launcher.py:16: SettingWithCopyWarning: \n",
            "A value is trying to be set on a copy of a slice from a DataFrame\n",
            "\n",
            "See the caveats in the documentation: https://pandas.pydata.org/pandas-docs/stable/user_guide/indexing.html#returning-a-view-versus-a-copy\n",
            "  app.launch_new_instance()\n",
            "/usr/local/lib/python3.7/dist-packages/ipykernel_launcher.py:17: SettingWithCopyWarning: \n",
            "A value is trying to be set on a copy of a slice from a DataFrame\n",
            "\n",
            "See the caveats in the documentation: https://pandas.pydata.org/pandas-docs/stable/user_guide/indexing.html#returning-a-view-versus-a-copy\n"
          ]
        },
        {
          "output_type": "stream",
          "name": "stdout",
          "text": [
            "<class 'pandas.core.frame.DataFrame'>\n",
            "RangeIndex: 3374 entries, 0 to 3373\n",
            "Data columns (total 14 columns):\n",
            " #   Column             Non-Null Count  Dtype  \n",
            "---  ------             --------------  -----  \n",
            " 0   price              3374 non-null   int64  \n",
            " 1   usable_area        3374 non-null   int64  \n",
            " 2   floor              3374 non-null   float64\n",
            " 3   energy_effeciency  3374 non-null   float64\n",
            " 4   has_lift           3374 non-null   bool   \n",
            " 5   has_garage         3374 non-null   bool   \n",
            " 6   has_cellar         3374 non-null   bool   \n",
            " 7   has_loggia         3374 non-null   bool   \n",
            " 8   has_balcony        3374 non-null   bool   \n",
            " 9   has_garden         3374 non-null   float64\n",
            " 10  has_parking        3374 non-null   bool   \n",
            " 11  DRUZSTEVNI         3374 non-null   bool   \n",
            " 12  OSOBNI             3374 non-null   bool   \n",
            " 13  UNDEFINED          3374 non-null   bool   \n",
            "dtypes: bool(9), float64(3), int64(2)\n",
            "memory usage: 161.6 KB\n"
          ]
        }
      ]
    },
    {
      "cell_type": "code",
      "source": [
        "from sklearn.model_selection import train_test_split\n",
        "import re\n",
        "regex = re.compile(r\"\\[|\\]|<\", re.IGNORECASE)\n",
        "df.columns = [regex.sub(\"_\", col) if any(x in str(col) for x in set(('[', ']', '<'))) else col for col in df.columns.values]\n",
        "df = df.append(dfs)\n",
        "# print(X_test) # targets, usually y\n",
        "X = df['price'].values.reshape(-1,1)\n",
        "# print(Y_test.info()) # input, usually X\n",
        "Y = df.drop(df.columns[[0]], axis=1)\n",
        "Y_train, Y_test, X_train, X_test = train_test_split(Y, X, test_size=0.33, random_state=42, shuffle=True)"
      ],
      "metadata": {
        "id": "DAiShS4DFrid"
      },
      "execution_count": 603,
      "outputs": []
    },
    {
      "cell_type": "code",
      "source": [
        "df.info()"
      ],
      "metadata": {
        "colab": {
          "base_uri": "https://localhost:8080/"
        },
        "id": "QWQTbup1ZAjk",
        "outputId": "e850f726-5039-4c22-e84c-13df324db6c1"
      },
      "execution_count": 604,
      "outputs": [
        {
          "output_type": "stream",
          "name": "stdout",
          "text": [
            "<class 'pandas.core.frame.DataFrame'>\n",
            "Int64Index: 3875 entries, 0 to 3373\n",
            "Data columns (total 14 columns):\n",
            " #   Column             Non-Null Count  Dtype  \n",
            "---  ------             --------------  -----  \n",
            " 0   price              3875 non-null   int64  \n",
            " 1   usable_area        3875 non-null   int64  \n",
            " 2   floor              3875 non-null   float64\n",
            " 3   energy_effeciency  3875 non-null   float64\n",
            " 4   has_lift           3875 non-null   bool   \n",
            " 5   has_garage         3875 non-null   bool   \n",
            " 6   has_cellar         3875 non-null   bool   \n",
            " 7   has_loggia         3875 non-null   bool   \n",
            " 8   has_balcony        3875 non-null   bool   \n",
            " 9   has_garden         3875 non-null   float64\n",
            " 10  has_parking        3875 non-null   bool   \n",
            " 11  DRUZSTEVNI         3875 non-null   bool   \n",
            " 12  OSOBNI             3875 non-null   bool   \n",
            " 13  UNDEFINED          3875 non-null   bool   \n",
            "dtypes: bool(9), float64(3), int64(2)\n",
            "memory usage: 215.7 KB\n"
          ]
        }
      ]
    },
    {
      "cell_type": "markdown",
      "source": [
        "#DECISION TREE"
      ],
      "metadata": {
        "id": "VBCDSPqIVqHS"
      }
    },
    {
      "cell_type": "code",
      "source": [
        "from sklearn import tree \n",
        "import matplotlib.pyplot as plt\n",
        "from sklearn.model_selection import cross_val_score\n",
        "from sklearn.metrics import mean_absolute_error\n",
        "clf = tree.DecisionTreeRegressor(max_depth=5, criterion = 'absolute_error', random_state = 0) # 15 = 0.6, 20 = 0.7, 5 = 0.15\n",
        "clf = clf.fit(Y_train, X_train)\n",
        "# mean accuracy\n",
        "print(\"The model training score is\" , clf.score(Y_train, X_train))\n",
        "print(\"The model testing score is\" , clf.score(Y_test, X_test))\n",
        "y_pred_tree = clf.predict(Y_test)\n",
        "print(\"The model testing mean absolute error is\", mean_absolute_error(X_test, y_pred_tree))\n",
        "\n",
        "# comment: with one hot encoding dist, R^2 of test data went from 0.48 to 0.29!\n"
      ],
      "metadata": {
        "colab": {
          "base_uri": "https://localhost:8080/"
        },
        "id": "Byvyuz5TVrMC",
        "outputId": "b6c638ae-c016-4100-ec3b-32186be28777"
      },
      "execution_count": 613,
      "outputs": [
        {
          "output_type": "stream",
          "name": "stdout",
          "text": [
            "The model training score is 0.7622423087961335\n",
            "The model testing score is 0.6424820167107556\n",
            "The model testing mean absolute error is 1764278.732994527\n"
          ]
        }
      ]
    },
    {
      "cell_type": "markdown",
      "source": [
        "#RANDOM FOREST TODO\n",
        "\n"
      ],
      "metadata": {
        "id": "2DZFfbSAqv0u"
      }
    },
    {
      "cell_type": "code",
      "source": [
        "from sklearn.ensemble import RandomForestRegressor\n",
        "from sklearn.datasets import make_regression\n",
        "# Y_train, X_train = make_regression(n_features=23, n_informative=2, random_state=0, shuffle=False)\n",
        "regr = RandomForestRegressor(n_estimators = 100, max_depth=5, criterion = 'absolute_error', random_state=0)\n",
        "regr = regr.fit(Y_train, X_train)\n",
        "# coefficient of determination\n",
        "print(\"The model training score is\" , regr.score(Y_train, X_train))\n",
        "print(\"The model testing score is\" , regr.score(Y_test, X_test))\n",
        "y_pred_tree = regr.predict(Y_test)\n",
        "print(\"The model testing mean absolute error is\", mean_absolute_error(X_test, y_pred_tree))\n",
        "\n",
        "# comment: with one hot encoding dist, R^2 of test data went from 0.5 to 0.62!"
      ],
      "metadata": {
        "colab": {
          "base_uri": "https://localhost:8080/"
        },
        "id": "bh20JSy-qvcm",
        "outputId": "5d59ca98-e37a-42c1-e150-66cb026ee7b5"
      },
      "execution_count": 614,
      "outputs": [
        {
          "output_type": "stream",
          "name": "stderr",
          "text": [
            "/usr/local/lib/python3.7/dist-packages/ipykernel_launcher.py:5: DataConversionWarning: A column-vector y was passed when a 1d array was expected. Please change the shape of y to (n_samples,), for example using ravel().\n",
            "  \"\"\"\n"
          ]
        },
        {
          "output_type": "stream",
          "name": "stdout",
          "text": [
            "The model training score is 0.7529689472658921\n",
            "The model testing score is 0.6813632551627942\n",
            "The model testing mean absolute error is 1661576.8150234558\n"
          ]
        }
      ]
    },
    {
      "cell_type": "markdown",
      "source": [
        "#BASIC REGRESSION"
      ],
      "metadata": {
        "id": "izxdPELIVsi7"
      }
    },
    {
      "cell_type": "code",
      "source": [
        "from sklearn.linear_model import LinearRegression\n",
        "model = LinearRegression().fit(Y_train, X_train)\n",
        "r_sq = model.score(Y_train, X_train)\n",
        "print(f\"Coefficient of determination: {r_sq}\")\n",
        "# y_pred = model.predict(Y_test)\n",
        "r2_score = model.score(Y_test, X_test)\n",
        "print(f\"Coefficient of determination: {r2_score}\")\n",
        "y_pred_tree = model.predict(Y_test)\n",
        "print(\"The model testing mean absolute error is\", mean_absolute_error(X_test, y_pred_tree))\n",
        "\n",
        "# comment: with one hot encoding dist, R^2 of test data went from 0.55 to 0.19!"
      ],
      "metadata": {
        "colab": {
          "base_uri": "https://localhost:8080/"
        },
        "id": "u1WFtvo3Vtyi",
        "outputId": "93563c55-37a1-4005-a85d-39d35eaff8d8"
      },
      "execution_count": 607,
      "outputs": [
        {
          "output_type": "stream",
          "name": "stdout",
          "text": [
            "Coefficient of determination: 0.6739294005676206\n",
            "Coefficient of determination: 0.7106410170869124\n",
            "The model testing mean absolute error is 1810096.1453091016\n"
          ]
        }
      ]
    },
    {
      "cell_type": "markdown",
      "source": [
        "#NEAREST K-NEIGH. REGRESSION"
      ],
      "metadata": {
        "id": "0ujvHeUrVvCT"
      }
    },
    {
      "cell_type": "code",
      "source": [
        "from sklearn.neighbors import KNeighborsRegressor\n",
        "neigh = KNeighborsRegressor(n_neighbors=2)\n",
        "neigh.fit(Y_train, X_train)\n",
        "# coefficient of determination\n",
        "print(\"The model training score is\" , neigh.score(Y_train, X_train))\n",
        "print(\"The model testing score is\" , neigh.score(Y_test, X_test))\n",
        "y_pred_tree = neigh.predict(Y_test)\n",
        "print(\"The model testing mean absolute error is\", mean_absolute_error(X_test, y_pred_tree))\n",
        "\n",
        "# comment: with one hot encoding dist, R^2 of test data went from -0.18 to 0.49"
      ],
      "metadata": {
        "colab": {
          "base_uri": "https://localhost:8080/"
        },
        "id": "RddA9NV0Vy7J",
        "outputId": "5a6d61b7-a0a7-4d71-eb77-a82397987eab"
      },
      "execution_count": 608,
      "outputs": [
        {
          "output_type": "stream",
          "name": "stdout",
          "text": [
            "The model training score is 0.8484274587822296\n",
            "The model testing score is 0.6165000583302404\n",
            "The model testing mean absolute error is 1942716.070758405\n"
          ]
        }
      ]
    },
    {
      "cell_type": "markdown",
      "source": [
        "#NN"
      ],
      "metadata": {
        "id": "79v--vQbV0GJ"
      }
    },
    {
      "cell_type": "code",
      "source": [
        "from sklearn.neural_network import MLPRegressor\n",
        "from sklearn.datasets import make_regression\n",
        "from sklearn.model_selection import train_test_split\n",
        "regr = MLPRegressor(random_state=1, max_iter=100).fit(Y_train, X_train)\n",
        "# coefficient of determination\n",
        "print(\"The model training score is\" , neigh.score(Y_train, X_train))\n",
        "print(\"The model testing score is\" , neigh.score(Y_test, X_test))\n",
        "y_pred_tree = regr.predict(Y_test)\n",
        "print(\"The model testing mean absolute error is\", mean_absolute_error(X_test, y_pred_tree))\n",
        "\n",
        "# comment: with one hot encoding dist, R^2 of test data went from -0.18 to 0.49"
      ],
      "metadata": {
        "colab": {
          "base_uri": "https://localhost:8080/"
        },
        "id": "vYnTOkJ0V1Cx",
        "outputId": "1fe29f99-31f7-4ad6-baf5-b76f3d86d91f"
      },
      "execution_count": 609,
      "outputs": [
        {
          "output_type": "stream",
          "name": "stderr",
          "text": [
            "/usr/local/lib/python3.7/dist-packages/sklearn/neural_network/_multilayer_perceptron.py:1599: DataConversionWarning: A column-vector y was passed when a 1d array was expected. Please change the shape of y to (n_samples, ), for example using ravel().\n",
            "  y = column_or_1d(y, warn=True)\n"
          ]
        },
        {
          "output_type": "stream",
          "name": "stdout",
          "text": [
            "The model training score is 0.8484274587822296\n",
            "The model testing score is 0.6165000583302404\n",
            "The model testing mean absolute error is 9058046.697841713\n"
          ]
        },
        {
          "output_type": "stream",
          "name": "stderr",
          "text": [
            "/usr/local/lib/python3.7/dist-packages/sklearn/neural_network/_multilayer_perceptron.py:696: ConvergenceWarning: Stochastic Optimizer: Maximum iterations (100) reached and the optimization hasn't converged yet.\n",
            "  ConvergenceWarning,\n"
          ]
        }
      ]
    },
    {
      "cell_type": "markdown",
      "source": [
        "#XGBOOST TODO"
      ],
      "metadata": {
        "id": "ksrmeNO6I-wz"
      }
    },
    {
      "cell_type": "code",
      "source": [
        "from xgboost import XGBRegressor\n",
        "from sklearn.metrics import accuracy_score\n",
        "model = XGBRegressor(max_depth = 2)\n",
        "model.fit(Y_train, X_train)\n",
        "# make predictions for test data\n",
        "y_pred = model.predict(Y_test)\n",
        "predictions = [round(value) for value in y_pred]\n",
        "print(\"The model training score is\" , model.score(Y_train, X_train))\n",
        "print(\"The model testing score is\" , model.score(Y_test, X_test))\n",
        "print(\"The model testing mean absolute error is\", mean_absolute_error(X_test, y_pred))\n",
        "\n",
        "# comment: with one hot encoding dist, R^2 of test data went from 0.6 to 0.64"
      ],
      "metadata": {
        "colab": {
          "base_uri": "https://localhost:8080/"
        },
        "id": "G4A7e65KJACj",
        "outputId": "ff5c31a8-b6fb-4305-dca6-cd180ceec980"
      },
      "execution_count": 618,
      "outputs": [
        {
          "output_type": "stream",
          "name": "stdout",
          "text": [
            "[15:31:32] WARNING: /workspace/src/objective/regression_obj.cu:152: reg:linear is now deprecated in favor of reg:squarederror.\n",
            "The model training score is 0.8016390040710194\n",
            "The model testing score is 0.7247283709722214\n",
            "The model testing mean absolute error is 1677400.3170445662\n"
          ]
        }
      ]
    }
  ]
}